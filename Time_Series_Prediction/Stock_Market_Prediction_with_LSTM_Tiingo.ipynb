{
  "nbformat": 4,
  "nbformat_minor": 0,
  "metadata": {
    "colab": {
      "name": "Stock Market Prediction with LSTM - Tiingo.ipynb",
      "provenance": [],
      "collapsed_sections": [],
      "authorship_tag": "ABX9TyPSWS5aq13riKGMnLAqpWLV",
      "include_colab_link": true
    },
    "kernelspec": {
      "name": "python3",
      "display_name": "Python 3"
    },
    "accelerator": "GPU"
  },
  "cells": [
    {
      "cell_type": "markdown",
      "metadata": {
        "id": "view-in-github",
        "colab_type": "text"
      },
      "source": [
        "<a href=\"https://colab.research.google.com/github/iamhannahkoh/DeepLearning/blob/main/Stock_Market_Prediction_with_LSTM_Tiingo.ipynb\" target=\"_parent\"><img src=\"https://colab.research.google.com/assets/colab-badge.svg\" alt=\"Open In Colab\"/></a>"
      ]
    },
    {
      "cell_type": "markdown",
      "metadata": {
        "id": "A_-zEbAcNwyc"
      },
      "source": [
        "## Stock Market Prediction Using LSTM"
      ]
    },
    {
      "cell_type": "markdown",
      "metadata": {
        "id": "xt4lp-HsN3cs"
      },
      "source": [
        "**About the Data**\r\n",
        "\r\n",
        "We will use Apple Inc. (AAPL) Stock Price data from Tiingo for stock market prediction. "
      ]
    },
    {
      "cell_type": "markdown",
      "metadata": {
        "id": "JIsckq8rOQFF"
      },
      "source": [
        "### 1. Set up data"
      ]
    },
    {
      "cell_type": "code",
      "metadata": {
        "id": "QvIjBefjNjaW"
      },
      "source": [
        "import pandas_datareader as pdr\r\n",
        "import pandas as pd"
      ],
      "execution_count": null,
      "outputs": []
    },
    {
      "cell_type": "code",
      "metadata": {
        "id": "-IfDadI5N1O9"
      },
      "source": [
        "# You need to log into (or create one) your Tiingo account to get your activation key.\r\n",
        "key=\"Insert your key here\"\r\n",
        "df = pdr.get_data_tiingo('AAPL', api_key=key)\r\n",
        "df.to_csv('/tmp/AAPL.csv')"
      ],
      "execution_count": null,
      "outputs": []
    },
    {
      "cell_type": "code",
      "metadata": {
        "colab": {
          "base_uri": "https://localhost:8080/",
          "height": 198
        },
        "id": "Zo41qwo_OnSo",
        "outputId": "35e982c5-0c06-4f19-e2a2-471a8a409d04"
      },
      "source": [
        "df=pd.read_csv('/tmp/AAPL.csv')\r\n",
        "df.head()"
      ],
      "execution_count": null,
      "outputs": [
        {
          "output_type": "execute_result",
          "data": {
            "text/html": [
              "<div>\n",
              "<style scoped>\n",
              "    .dataframe tbody tr th:only-of-type {\n",
              "        vertical-align: middle;\n",
              "    }\n",
              "\n",
              "    .dataframe tbody tr th {\n",
              "        vertical-align: top;\n",
              "    }\n",
              "\n",
              "    .dataframe thead th {\n",
              "        text-align: right;\n",
              "    }\n",
              "</style>\n",
              "<table border=\"1\" class=\"dataframe\">\n",
              "  <thead>\n",
              "    <tr style=\"text-align: right;\">\n",
              "      <th></th>\n",
              "      <th>symbol</th>\n",
              "      <th>date</th>\n",
              "      <th>close</th>\n",
              "      <th>high</th>\n",
              "      <th>low</th>\n",
              "      <th>open</th>\n",
              "      <th>volume</th>\n",
              "      <th>adjClose</th>\n",
              "      <th>adjHigh</th>\n",
              "      <th>adjLow</th>\n",
              "      <th>adjOpen</th>\n",
              "      <th>adjVolume</th>\n",
              "      <th>divCash</th>\n",
              "      <th>splitFactor</th>\n",
              "    </tr>\n",
              "  </thead>\n",
              "  <tbody>\n",
              "    <tr>\n",
              "      <th>0</th>\n",
              "      <td>AAPL</td>\n",
              "      <td>2016-01-12 00:00:00+00:00</td>\n",
              "      <td>99.96</td>\n",
              "      <td>100.69</td>\n",
              "      <td>98.8399</td>\n",
              "      <td>100.55</td>\n",
              "      <td>49154227</td>\n",
              "      <td>23.149595</td>\n",
              "      <td>23.318654</td>\n",
              "      <td>22.890192</td>\n",
              "      <td>23.286232</td>\n",
              "      <td>196616908</td>\n",
              "      <td>0.0</td>\n",
              "      <td>1.0</td>\n",
              "    </tr>\n",
              "    <tr>\n",
              "      <th>1</th>\n",
              "      <td>AAPL</td>\n",
              "      <td>2016-01-13 00:00:00+00:00</td>\n",
              "      <td>97.39</td>\n",
              "      <td>101.19</td>\n",
              "      <td>97.3000</td>\n",
              "      <td>100.32</td>\n",
              "      <td>62439631</td>\n",
              "      <td>22.554412</td>\n",
              "      <td>23.434449</td>\n",
              "      <td>22.533569</td>\n",
              "      <td>23.232967</td>\n",
              "      <td>249758524</td>\n",
              "      <td>0.0</td>\n",
              "      <td>1.0</td>\n",
              "    </tr>\n",
              "    <tr>\n",
              "      <th>2</th>\n",
              "      <td>AAPL</td>\n",
              "      <td>2016-01-14 00:00:00+00:00</td>\n",
              "      <td>99.52</td>\n",
              "      <td>100.48</td>\n",
              "      <td>95.7400</td>\n",
              "      <td>97.96</td>\n",
              "      <td>63170127</td>\n",
              "      <td>23.047696</td>\n",
              "      <td>23.270021</td>\n",
              "      <td>22.172291</td>\n",
              "      <td>22.686417</td>\n",
              "      <td>252680508</td>\n",
              "      <td>0.0</td>\n",
              "      <td>1.0</td>\n",
              "    </tr>\n",
              "    <tr>\n",
              "      <th>3</th>\n",
              "      <td>AAPL</td>\n",
              "      <td>2016-01-15 00:00:00+00:00</td>\n",
              "      <td>97.13</td>\n",
              "      <td>97.71</td>\n",
              "      <td>95.3600</td>\n",
              "      <td>96.20</td>\n",
              "      <td>79833891</td>\n",
              "      <td>22.494199</td>\n",
              "      <td>22.628520</td>\n",
              "      <td>22.084287</td>\n",
              "      <td>22.278822</td>\n",
              "      <td>319335564</td>\n",
              "      <td>0.0</td>\n",
              "      <td>1.0</td>\n",
              "    </tr>\n",
              "    <tr>\n",
              "      <th>4</th>\n",
              "      <td>AAPL</td>\n",
              "      <td>2016-01-19 00:00:00+00:00</td>\n",
              "      <td>96.66</td>\n",
              "      <td>98.65</td>\n",
              "      <td>95.5000</td>\n",
              "      <td>98.41</td>\n",
              "      <td>53087747</td>\n",
              "      <td>22.385352</td>\n",
              "      <td>22.846214</td>\n",
              "      <td>22.116710</td>\n",
              "      <td>22.790632</td>\n",
              "      <td>212350988</td>\n",
              "      <td>0.0</td>\n",
              "      <td>1.0</td>\n",
              "    </tr>\n",
              "  </tbody>\n",
              "</table>\n",
              "</div>"
            ],
            "text/plain": [
              "  symbol                       date  close  ...  adjVolume  divCash  splitFactor\n",
              "0   AAPL  2016-01-12 00:00:00+00:00  99.96  ...  196616908      0.0          1.0\n",
              "1   AAPL  2016-01-13 00:00:00+00:00  97.39  ...  249758524      0.0          1.0\n",
              "2   AAPL  2016-01-14 00:00:00+00:00  99.52  ...  252680508      0.0          1.0\n",
              "3   AAPL  2016-01-15 00:00:00+00:00  97.13  ...  319335564      0.0          1.0\n",
              "4   AAPL  2016-01-19 00:00:00+00:00  96.66  ...  212350988      0.0          1.0\n",
              "\n",
              "[5 rows x 14 columns]"
            ]
          },
          "metadata": {
            "tags": []
          },
          "execution_count": 3
        }
      ]
    },
    {
      "cell_type": "code",
      "metadata": {
        "colab": {
          "base_uri": "https://localhost:8080/"
        },
        "id": "W8qgbvwWQio6",
        "outputId": "858fbc30-f873-4aec-f8bb-68d1edaecfa7"
      },
      "source": [
        "df1=df.reset_index()['close']\r\n",
        "df1"
      ],
      "execution_count": null,
      "outputs": [
        {
          "output_type": "execute_result",
          "data": {
            "text/plain": [
              "0        99.96\n",
              "1        97.39\n",
              "2        99.52\n",
              "3        97.13\n",
              "4        96.66\n",
              "         ...  \n",
              "1253    129.41\n",
              "1254    131.01\n",
              "1255    126.60\n",
              "1256    130.92\n",
              "1257    132.05\n",
              "Name: close, Length: 1258, dtype: float64"
            ]
          },
          "metadata": {
            "tags": []
          },
          "execution_count": 4
        }
      ]
    },
    {
      "cell_type": "code",
      "metadata": {
        "colab": {
          "base_uri": "https://localhost:8080/",
          "height": 283
        },
        "id": "ZpiEB4mORH45",
        "outputId": "b9597c38-2511-4fbf-a2d7-9e8bbf34be08"
      },
      "source": [
        "import matplotlib.pyplot as plt\r\n",
        "plt.plot(df1)"
      ],
      "execution_count": null,
      "outputs": [
        {
          "output_type": "execute_result",
          "data": {
            "text/plain": [
              "[<matplotlib.lines.Line2D at 0x7fe3051bf7b8>]"
            ]
          },
          "metadata": {
            "tags": []
          },
          "execution_count": 6
        },
        {
          "output_type": "display_data",
          "data": {
            "image/png": "[encoded data removed]",
            "text/plain": [
              "<Figure size 432x288 with 1 Axes>"
            ]
          },
          "metadata": {
            "tags": [],
            "needs_background": "light"
          }
        }
      ]
    },
    {
      "cell_type": "markdown",
      "metadata": {
        "id": "EpwGUv6kRrUY"
      },
      "source": [
        "### 2. Preprocessing"
      ]
    },
    {
      "cell_type": "code",
      "metadata": {
        "colab": {
          "base_uri": "https://localhost:8080/"
        },
        "id": "0-pUGOxuROu_",
        "outputId": "110110ca-3136-4c1d-9501-812fff68bb9d"
      },
      "source": [
        "# LSTM models are sensitive to the scale of the data so we apply Min<ax scaler here.\r\n",
        "\r\n",
        "import numpy as np\r\n",
        "from sklearn.preprocessing import MinMaxScaler\r\n",
        "\r\n",
        "scaler=MinMaxScaler(feature_range=(0,1))\r\n",
        "df1=scaler.fit_transform(np.array(df1).reshape(-1,1))\r\n",
        "print(df1)"
      ],
      "execution_count": null,
      "outputs": [
        {
          "output_type": "stream",
          "text": [
            "[[0.02313891]\n",
            " [0.01695731]\n",
            " [0.02208058]\n",
            " ...\n",
            " [0.08721587]\n",
            " [0.09760673]\n",
            " [0.10032471]]\n"
          ],
          "name": "stdout"
        }
      ]
    },
    {
      "cell_type": "code",
      "metadata": {
        "colab": {
          "base_uri": "https://localhost:8080/"
        },
        "id": "I9bD1q50Ro9p",
        "outputId": "d028f9cb-0e52-4f19-b656-bd60bf5efcf3"
      },
      "source": [
        "# Train and test split\r\n",
        "training_size=int(len(df1)*0.65)\r\n",
        "test_size=len(df1)-training_size\r\n",
        "train_data,test_data=df1[0:training_size,:],df1[training_size:len(df1),:1]\r\n",
        "\r\n",
        "training_size,test_size"
      ],
      "execution_count": null,
      "outputs": [
        {
          "output_type": "execute_result",
          "data": {
            "text/plain": [
              "(817, 441)"
            ]
          },
          "metadata": {
            "tags": []
          },
          "execution_count": 8
        }
      ]
    },
    {
      "cell_type": "code",
      "metadata": {
        "id": "84sOwAZoR38i"
      },
      "source": [
        "# convert an array of values into a dataset matrix\r\n",
        "def create_dataset(dataset, time_step=1):\r\n",
        "\tdataX, dataY = [], []\r\n",
        "\tfor i in range(len(dataset)-time_step-1):\r\n",
        "\t\ta = dataset[i:(i+time_step), 0]  \r\n",
        "\t\tdataX.append(a)\r\n",
        "\t\tdataY.append(dataset[i + time_step, 0])\r\n",
        "\treturn np.array(dataX), np.array(dataY)"
      ],
      "execution_count": null,
      "outputs": []
    },
    {
      "cell_type": "code",
      "metadata": {
        "id": "MUzZeD5HSGPt"
      },
      "source": [
        "# reshape into X=t,t+1,t+2,t+3 and Y=t+4\r\n",
        "time_step = 100\r\n",
        "X_train, y_train = create_dataset(train_data, time_step)\r\n",
        "X_test, ytest = create_dataset(test_data, time_step)"
      ],
      "execution_count": null,
      "outputs": []
    },
    {
      "cell_type": "code",
      "metadata": {
        "colab": {
          "base_uri": "https://localhost:8080/"
        },
        "id": "6APAoVDwSGT7",
        "outputId": "be7497c6-b660-4f6a-e445-7555670e6b1f"
      },
      "source": [
        "print(X_train.shape), print(y_train.shape)"
      ],
      "execution_count": null,
      "outputs": [
        {
          "output_type": "stream",
          "text": [
            "(716, 100)\n",
            "(716,)\n"
          ],
          "name": "stdout"
        },
        {
          "output_type": "execute_result",
          "data": {
            "text/plain": [
              "(None, None)"
            ]
          },
          "metadata": {
            "tags": []
          },
          "execution_count": 11
        }
      ]
    },
    {
      "cell_type": "code",
      "metadata": {
        "colab": {
          "base_uri": "https://localhost:8080/"
        },
        "id": "1SOzbvgRSGYf",
        "outputId": "2ca1f7ad-3a23-4686-feb3-a12a85ba3bb1"
      },
      "source": [
        "print(X_test.shape), print(ytest.shape)"
      ],
      "execution_count": null,
      "outputs": [
        {
          "output_type": "stream",
          "text": [
            "(340, 100)\n",
            "(340,)\n"
          ],
          "name": "stdout"
        },
        {
          "output_type": "execute_result",
          "data": {
            "text/plain": [
              "(None, None)"
            ]
          },
          "metadata": {
            "tags": []
          },
          "execution_count": 12
        }
      ]
    },
    {
      "cell_type": "code",
      "metadata": {
        "id": "OByJdtekSUIS"
      },
      "source": [
        "# reshape input to be [samples, time steps, features] which is required for LSTM\r\n",
        "X_train =X_train.reshape(X_train.shape[0],X_train.shape[1] , 1)\r\n",
        "X_test = X_test.reshape(X_test.shape[0],X_test.shape[1] , 1)"
      ],
      "execution_count": null,
      "outputs": []
    },
    {
      "cell_type": "markdown",
      "metadata": {
        "id": "PWMzo-GJShjQ"
      },
      "source": [
        "### 3. Modeling"
      ]
    },
    {
      "cell_type": "code",
      "metadata": {
        "id": "ey1azIVSSfOO"
      },
      "source": [
        "import tensorflow as tf"
      ],
      "execution_count": null,
      "outputs": []
    },
    {
      "cell_type": "code",
      "metadata": {
        "colab": {
          "base_uri": "https://localhost:8080/"
        },
        "id": "8-S3LsDYSmdS",
        "outputId": "69e33926-2d7f-41cd-9632-f0d6835b1173"
      },
      "source": [
        "model=tf.keras.models.Sequential([tf.keras.layers.LSTM(50, return_sequences=True, input_shape=(100,1)),\r\n",
        "                                  tf.keras.layers.LSTM(50, return_sequences=True),\r\n",
        "                                  tf.keras.layers.LSTM(50),\r\n",
        "                                  tf.keras.layers.Dense(1)])\r\n",
        "\r\n",
        "model.compile(loss='mean_squared_error',optimizer='adam')\r\n",
        "\r\n",
        "model.summary()"
      ],
      "execution_count": null,
      "outputs": [
        {
          "output_type": "stream",
          "text": [
            "Model: \"sequential\"\n",
            "_________________________________________________________________\n",
            "Layer (type)                 Output Shape              Param #   \n",
            "=================================================================\n",
            "lstm (LSTM)                  (None, 100, 50)           10400     \n",
            "_________________________________________________________________\n",
            "lstm_1 (LSTM)                (None, 100, 50)           20200     \n",
            "_________________________________________________________________\n",
            "lstm_2 (LSTM)                (None, 50)                20200     \n",
            "_________________________________________________________________\n",
            "dense (Dense)                (None, 1)                 51        \n",
            "=================================================================\n",
            "Total params: 50,851\n",
            "Trainable params: 50,851\n",
            "Non-trainable params: 0\n",
            "_________________________________________________________________\n"
          ],
          "name": "stdout"
        }
      ]
    },
    {
      "cell_type": "code",
      "metadata": {
        "colab": {
          "base_uri": "https://localhost:8080/"
        },
        "id": "IEWKTxS1TNRZ",
        "outputId": "1a2cdde6-86d7-4382-f59e-9972a3f1599f"
      },
      "source": [
        "model.fit(X_train,y_train,validation_data=(X_test,ytest),epochs=100,batch_size=64,verbose=1)"
      ],
      "execution_count": null,
      "outputs": [
        {
          "output_type": "stream",
          "text": [
            "Epoch 1/100\n",
            "12/12 [==============================] - 11s 124ms/step - loss: 0.0159 - val_loss: 0.0612\n",
            "Epoch 2/100\n",
            "12/12 [==============================] - 0s 33ms/step - loss: 0.0032 - val_loss: 0.0259\n",
            "Epoch 3/100\n",
            "12/12 [==============================] - 0s 21ms/step - loss: 0.0013 - val_loss: 0.0232\n",
            "Epoch 4/100\n",
            "12/12 [==============================] - 0s 20ms/step - loss: 4.7434e-04 - val_loss: 0.0214\n",
            "Epoch 5/100\n",
            "12/12 [==============================] - 0s 20ms/step - loss: 4.4891e-04 - val_loss: 0.0216\n",
            "Epoch 6/100\n",
            "12/12 [==============================] - 0s 20ms/step - loss: 4.1437e-04 - val_loss: 0.0209\n",
            "Epoch 7/100\n",
            "12/12 [==============================] - 0s 21ms/step - loss: 3.8389e-04 - val_loss: 0.0199\n",
            "Epoch 8/100\n",
            "12/12 [==============================] - 0s 20ms/step - loss: 4.2490e-04 - val_loss: 0.0194\n",
            "Epoch 9/100\n",
            "12/12 [==============================] - 0s 20ms/step - loss: 3.1783e-04 - val_loss: 0.0195\n",
            "Epoch 10/100\n",
            "12/12 [==============================] - 0s 20ms/step - loss: 3.5555e-04 - val_loss: 0.0193\n",
            "Epoch 11/100\n",
            "12/12 [==============================] - 0s 21ms/step - loss: 3.6910e-04 - val_loss: 0.0185\n",
            "Epoch 12/100\n",
            "12/12 [==============================] - 0s 20ms/step - loss: 3.3771e-04 - val_loss: 0.0182\n",
            "Epoch 13/100\n",
            "12/12 [==============================] - 0s 20ms/step - loss: 3.3354e-04 - val_loss: 0.0178\n",
            "Epoch 14/100\n",
            "12/12 [==============================] - 0s 20ms/step - loss: 3.1216e-04 - val_loss: 0.0172\n",
            "Epoch 15/100\n",
            "12/12 [==============================] - 0s 20ms/step - loss: 2.7352e-04 - val_loss: 0.0166\n",
            "Epoch 16/100\n",
            "12/12 [==============================] - 0s 19ms/step - loss: 2.7606e-04 - val_loss: 0.0179\n",
            "Epoch 17/100\n",
            "12/12 [==============================] - 0s 20ms/step - loss: 3.4281e-04 - val_loss: 0.0161\n",
            "Epoch 18/100\n",
            "12/12 [==============================] - 0s 20ms/step - loss: 3.0567e-04 - val_loss: 0.0148\n",
            "Epoch 19/100\n",
            "12/12 [==============================] - 0s 20ms/step - loss: 2.5696e-04 - val_loss: 0.0151\n",
            "Epoch 20/100\n",
            "12/12 [==============================] - 0s 20ms/step - loss: 2.2212e-04 - val_loss: 0.0149\n",
            "Epoch 21/100\n",
            "12/12 [==============================] - 0s 20ms/step - loss: 2.3684e-04 - val_loss: 0.0144\n",
            "Epoch 22/100\n",
            "12/12 [==============================] - 0s 20ms/step - loss: 2.0960e-04 - val_loss: 0.0142\n",
            "Epoch 23/100\n",
            "12/12 [==============================] - 0s 20ms/step - loss: 2.0157e-04 - val_loss: 0.0133\n",
            "Epoch 24/100\n",
            "12/12 [==============================] - 0s 21ms/step - loss: 2.4757e-04 - val_loss: 0.0152\n",
            "Epoch 25/100\n",
            "12/12 [==============================] - 0s 20ms/step - loss: 2.1313e-04 - val_loss: 0.0148\n",
            "Epoch 26/100\n",
            "12/12 [==============================] - 0s 20ms/step - loss: 2.6897e-04 - val_loss: 0.0125\n",
            "Epoch 27/100\n",
            "12/12 [==============================] - 0s 20ms/step - loss: 2.8559e-04 - val_loss: 0.0137\n",
            "Epoch 28/100\n",
            "12/12 [==============================] - 0s 20ms/step - loss: 2.2774e-04 - val_loss: 0.0142\n",
            "Epoch 29/100\n",
            "12/12 [==============================] - 0s 20ms/step - loss: 2.3272e-04 - val_loss: 0.0126\n",
            "Epoch 30/100\n",
            "12/12 [==============================] - 0s 20ms/step - loss: 1.8483e-04 - val_loss: 0.0124\n",
            "Epoch 31/100\n",
            "12/12 [==============================] - 0s 21ms/step - loss: 1.9283e-04 - val_loss: 0.0134\n",
            "Epoch 32/100\n",
            "12/12 [==============================] - 0s 20ms/step - loss: 1.8434e-04 - val_loss: 0.0132\n",
            "Epoch 33/100\n",
            "12/12 [==============================] - 0s 20ms/step - loss: 2.0025e-04 - val_loss: 0.0124\n",
            "Epoch 34/100\n",
            "12/12 [==============================] - 0s 20ms/step - loss: 1.9732e-04 - val_loss: 0.0122\n",
            "Epoch 35/100\n",
            "12/12 [==============================] - 0s 21ms/step - loss: 1.7912e-04 - val_loss: 0.0135\n",
            "Epoch 36/100\n",
            "12/12 [==============================] - 0s 21ms/step - loss: 2.0562e-04 - val_loss: 0.0123\n",
            "Epoch 37/100\n",
            "12/12 [==============================] - 0s 20ms/step - loss: 1.5152e-04 - val_loss: 0.0125\n",
            "Epoch 38/100\n",
            "12/12 [==============================] - 0s 21ms/step - loss: 1.7109e-04 - val_loss: 0.0123\n",
            "Epoch 39/100\n",
            "12/12 [==============================] - 0s 21ms/step - loss: 1.8550e-04 - val_loss: 0.0120\n",
            "Epoch 40/100\n",
            "12/12 [==============================] - 0s 20ms/step - loss: 1.4872e-04 - val_loss: 0.0120\n",
            "Epoch 41/100\n",
            "12/12 [==============================] - 0s 20ms/step - loss: 1.6866e-04 - val_loss: 0.0123\n",
            "Epoch 42/100\n",
            "12/12 [==============================] - 0s 22ms/step - loss: 1.6250e-04 - val_loss: 0.0122\n",
            "Epoch 43/100\n",
            "12/12 [==============================] - 0s 22ms/step - loss: 1.6376e-04 - val_loss: 0.0118\n",
            "Epoch 44/100\n",
            "12/12 [==============================] - 0s 22ms/step - loss: 1.6364e-04 - val_loss: 0.0123\n",
            "Epoch 45/100\n",
            "12/12 [==============================] - 0s 21ms/step - loss: 1.5531e-04 - val_loss: 0.0124\n",
            "Epoch 46/100\n",
            "12/12 [==============================] - 0s 22ms/step - loss: 1.7646e-04 - val_loss: 0.0121\n",
            "Epoch 47/100\n",
            "12/12 [==============================] - 0s 21ms/step - loss: 1.7790e-04 - val_loss: 0.0125\n",
            "Epoch 48/100\n",
            "12/12 [==============================] - 0s 21ms/step - loss: 1.8406e-04 - val_loss: 0.0119\n",
            "Epoch 49/100\n",
            "12/12 [==============================] - 0s 23ms/step - loss: 1.6612e-04 - val_loss: 0.0127\n",
            "Epoch 50/100\n",
            "12/12 [==============================] - 0s 21ms/step - loss: 1.8036e-04 - val_loss: 0.0119\n",
            "Epoch 51/100\n",
            "12/12 [==============================] - 0s 21ms/step - loss: 1.3930e-04 - val_loss: 0.0120\n",
            "Epoch 52/100\n",
            "12/12 [==============================] - 0s 21ms/step - loss: 1.4694e-04 - val_loss: 0.0119\n",
            "Epoch 53/100\n",
            "12/12 [==============================] - 0s 22ms/step - loss: 1.5046e-04 - val_loss: 0.0118\n",
            "Epoch 54/100\n",
            "12/12 [==============================] - 0s 21ms/step - loss: 1.3548e-04 - val_loss: 0.0121\n",
            "Epoch 55/100\n",
            "12/12 [==============================] - 0s 21ms/step - loss: 1.6071e-04 - val_loss: 0.0116\n",
            "Epoch 56/100\n",
            "12/12 [==============================] - 0s 21ms/step - loss: 1.5578e-04 - val_loss: 0.0117\n",
            "Epoch 57/100\n",
            "12/12 [==============================] - 0s 21ms/step - loss: 1.7068e-04 - val_loss: 0.0124\n",
            "Epoch 58/100\n",
            "12/12 [==============================] - 0s 22ms/step - loss: 1.8927e-04 - val_loss: 0.0112\n",
            "Epoch 59/100\n",
            "12/12 [==============================] - 0s 23ms/step - loss: 1.3140e-04 - val_loss: 0.0117\n",
            "Epoch 60/100\n",
            "12/12 [==============================] - 0s 21ms/step - loss: 1.5527e-04 - val_loss: 0.0121\n",
            "Epoch 61/100\n",
            "12/12 [==============================] - 0s 21ms/step - loss: 1.8063e-04 - val_loss: 0.0117\n",
            "Epoch 62/100\n",
            "12/12 [==============================] - 0s 22ms/step - loss: 1.4016e-04 - val_loss: 0.0115\n",
            "Epoch 63/100\n",
            "12/12 [==============================] - 0s 21ms/step - loss: 1.4451e-04 - val_loss: 0.0117\n",
            "Epoch 64/100\n",
            "12/12 [==============================] - 0s 21ms/step - loss: 1.4602e-04 - val_loss: 0.0113\n",
            "Epoch 65/100\n",
            "12/12 [==============================] - 0s 21ms/step - loss: 1.6791e-04 - val_loss: 0.0110\n",
            "Epoch 66/100\n",
            "12/12 [==============================] - 0s 22ms/step - loss: 1.3732e-04 - val_loss: 0.0111\n",
            "Epoch 67/100\n",
            "12/12 [==============================] - 0s 22ms/step - loss: 1.2592e-04 - val_loss: 0.0120\n",
            "Epoch 68/100\n",
            "12/12 [==============================] - 0s 21ms/step - loss: 1.3418e-04 - val_loss: 0.0113\n",
            "Epoch 69/100\n",
            "12/12 [==============================] - 0s 21ms/step - loss: 1.3571e-04 - val_loss: 0.0110\n",
            "Epoch 70/100\n",
            "12/12 [==============================] - 0s 33ms/step - loss: 1.2836e-04 - val_loss: 0.0112\n",
            "Epoch 71/100\n",
            "12/12 [==============================] - 0s 21ms/step - loss: 1.3346e-04 - val_loss: 0.0108\n",
            "Epoch 72/100\n",
            "12/12 [==============================] - 0s 21ms/step - loss: 1.3050e-04 - val_loss: 0.0106\n",
            "Epoch 73/100\n",
            "12/12 [==============================] - 0s 22ms/step - loss: 1.0946e-04 - val_loss: 0.0110\n",
            "Epoch 74/100\n",
            "12/12 [==============================] - 0s 21ms/step - loss: 1.2747e-04 - val_loss: 0.0107\n",
            "Epoch 75/100\n",
            "12/12 [==============================] - 0s 21ms/step - loss: 1.3353e-04 - val_loss: 0.0101\n",
            "Epoch 76/100\n",
            "12/12 [==============================] - 0s 21ms/step - loss: 1.2248e-04 - val_loss: 0.0101\n",
            "Epoch 77/100\n",
            "12/12 [==============================] - 0s 21ms/step - loss: 1.0940e-04 - val_loss: 0.0100\n",
            "Epoch 78/100\n",
            "12/12 [==============================] - 0s 22ms/step - loss: 1.3398e-04 - val_loss: 0.0101\n",
            "Epoch 79/100\n",
            "12/12 [==============================] - 0s 21ms/step - loss: 1.3951e-04 - val_loss: 0.0100\n",
            "Epoch 80/100\n",
            "12/12 [==============================] - 0s 22ms/step - loss: 1.1499e-04 - val_loss: 0.0099\n",
            "Epoch 81/100\n",
            "12/12 [==============================] - 0s 22ms/step - loss: 1.1425e-04 - val_loss: 0.0095\n",
            "Epoch 82/100\n",
            "12/12 [==============================] - 0s 21ms/step - loss: 1.0734e-04 - val_loss: 0.0096\n",
            "Epoch 83/100\n",
            "12/12 [==============================] - 0s 21ms/step - loss: 1.2601e-04 - val_loss: 0.0093\n",
            "Epoch 84/100\n",
            "12/12 [==============================] - 0s 21ms/step - loss: 9.8848e-05 - val_loss: 0.0087\n",
            "Epoch 85/100\n",
            "12/12 [==============================] - 0s 22ms/step - loss: 1.0027e-04 - val_loss: 0.0091\n",
            "Epoch 86/100\n",
            "12/12 [==============================] - 0s 20ms/step - loss: 1.0925e-04 - val_loss: 0.0091\n",
            "Epoch 87/100\n",
            "12/12 [==============================] - 0s 20ms/step - loss: 1.1100e-04 - val_loss: 0.0083\n",
            "Epoch 88/100\n",
            "12/12 [==============================] - 0s 20ms/step - loss: 1.1163e-04 - val_loss: 0.0077\n",
            "Epoch 89/100\n",
            "12/12 [==============================] - 0s 21ms/step - loss: 9.4707e-05 - val_loss: 0.0092\n",
            "Epoch 90/100\n",
            "12/12 [==============================] - 0s 24ms/step - loss: 1.4356e-04 - val_loss: 0.0086\n",
            "Epoch 91/100\n",
            "12/12 [==============================] - 0s 21ms/step - loss: 1.4248e-04 - val_loss: 0.0078\n",
            "Epoch 92/100\n",
            "12/12 [==============================] - 0s 20ms/step - loss: 1.0241e-04 - val_loss: 0.0077\n",
            "Epoch 93/100\n",
            "12/12 [==============================] - 0s 21ms/step - loss: 9.6225e-05 - val_loss: 0.0077\n",
            "Epoch 94/100\n",
            "12/12 [==============================] - 0s 20ms/step - loss: 1.0668e-04 - val_loss: 0.0074\n",
            "Epoch 95/100\n",
            "12/12 [==============================] - 0s 20ms/step - loss: 9.3934e-05 - val_loss: 0.0075\n",
            "Epoch 96/100\n",
            "12/12 [==============================] - 0s 19ms/step - loss: 1.1912e-04 - val_loss: 0.0084\n",
            "Epoch 97/100\n",
            "12/12 [==============================] - 0s 21ms/step - loss: 1.2940e-04 - val_loss: 0.0070\n",
            "Epoch 98/100\n",
            "12/12 [==============================] - 0s 20ms/step - loss: 1.0153e-04 - val_loss: 0.0070\n",
            "Epoch 99/100\n",
            "12/12 [==============================] - 0s 20ms/step - loss: 8.8130e-05 - val_loss: 0.0071\n",
            "Epoch 100/100\n",
            "12/12 [==============================] - 0s 21ms/step - loss: 9.4749e-05 - val_loss: 0.0067\n"
          ],
          "name": "stdout"
        },
        {
          "output_type": "execute_result",
          "data": {
            "text/plain": [
              "<tensorflow.python.keras.callbacks.History at 0x7fe2b0465ac8>"
            ]
          },
          "metadata": {
            "tags": []
          },
          "execution_count": 16
        }
      ]
    },
    {
      "cell_type": "markdown",
      "metadata": {
        "id": "ccIRJDkuTqUu"
      },
      "source": [
        "### 4. Prediction"
      ]
    },
    {
      "cell_type": "code",
      "metadata": {
        "id": "Iz3Jnl8ATtNS"
      },
      "source": [
        "# Prediction\r\n",
        "train_predict=model.predict(X_train)\r\n",
        "test_predict=model.predict(X_test)\r\n",
        "\r\n",
        "#Transform back to original form\r\n",
        "train_predict=scaler.inverse_transform(train_predict)\r\n",
        "test_predict=scaler.inverse_transform(test_predict)"
      ],
      "execution_count": null,
      "outputs": []
    },
    {
      "cell_type": "code",
      "metadata": {
        "colab": {
          "base_uri": "https://localhost:8080/"
        },
        "id": "zkGUhZB1T42k",
        "outputId": "f3f73a98-fe90-49e2-b250-253e897f1b00"
      },
      "source": [
        "# Calculate RMSE performance metrics\r\n",
        "import math\r\n",
        "from sklearn.metrics import mean_squared_error\r\n",
        "math.sqrt(mean_squared_error(y_train,train_predict))"
      ],
      "execution_count": null,
      "outputs": [
        {
          "output_type": "execute_result",
          "data": {
            "text/plain": [
              "159.83940209067103"
            ]
          },
          "metadata": {
            "tags": []
          },
          "execution_count": 18
        }
      ]
    },
    {
      "cell_type": "code",
      "metadata": {
        "colab": {
          "base_uri": "https://localhost:8080/"
        },
        "id": "uTsWPthoT48F",
        "outputId": "d59ac72a-0d26-451e-ae00-7383638c2e46"
      },
      "source": [
        "# Test Data RMSE\r\n",
        "math.sqrt(mean_squared_error(ytest,test_predict))"
      ],
      "execution_count": null,
      "outputs": [
        {
          "output_type": "execute_result",
          "data": {
            "text/plain": [
              "269.6715711959941"
            ]
          },
          "metadata": {
            "tags": []
          },
          "execution_count": 19
        }
      ]
    },
    {
      "cell_type": "code",
      "metadata": {
        "colab": {
          "base_uri": "https://localhost:8080/",
          "height": 265
        },
        "id": "Cwl2ElBTT8S5",
        "outputId": "aab0d63c-303e-4788-90da-298a50bc7018"
      },
      "source": [
        "### Plotting \r\n",
        "# shift train predictions for plotting\r\n",
        "look_back=100\r\n",
        "trainPredictPlot = np.empty_like(df1)\r\n",
        "trainPredictPlot[:, :] = np.nan\r\n",
        "trainPredictPlot[look_back:len(train_predict)+look_back, :] = train_predict\r\n",
        "# shift test predictions for plotting\r\n",
        "testPredictPlot = np.empty_like(df1)\r\n",
        "testPredictPlot[:, :] = np.nan\r\n",
        "testPredictPlot[len(train_predict)+(look_back*2)+1:len(df1)-1, :] = test_predict\r\n",
        "# plot baseline and predictions\r\n",
        "plt.plot(scaler.inverse_transform(df1))\r\n",
        "plt.plot(trainPredictPlot)\r\n",
        "plt.plot(testPredictPlot)\r\n",
        "plt.show()"
      ],
      "execution_count": null,
      "outputs": [
        {
          "output_type": "display_data",
          "data": {
            "image/png": "[encoded data removed]",
            "text/plain": [
              "<Figure size 432x288 with 1 Axes>"
            ]
          },
          "metadata": {
            "tags": [],
            "needs_background": "light"
          }
        }
      ]
    },
    {
      "cell_type": "code",
      "metadata": {
        "colab": {
          "base_uri": "https://localhost:8080/"
        },
        "id": "OuYDyFqpUD3C",
        "outputId": "fa76a542-d72d-4602-a925-8cccfd53a490"
      },
      "source": [
        "len(test_data)"
      ],
      "execution_count": null,
      "outputs": [
        {
          "output_type": "execute_result",
          "data": {
            "text/plain": [
              "441"
            ]
          },
          "metadata": {
            "tags": []
          },
          "execution_count": 21
        }
      ]
    },
    {
      "cell_type": "code",
      "metadata": {
        "colab": {
          "base_uri": "https://localhost:8080/"
        },
        "id": "B_1CkbCeUHWO",
        "outputId": "b8779b75-8841-4b44-ec4f-9ba8ae3e1d6d"
      },
      "source": [
        "x_input=test_data[341:].reshape(1,-1)\r\n",
        "x_input.shape"
      ],
      "execution_count": null,
      "outputs": [
        {
          "output_type": "execute_result",
          "data": {
            "text/plain": [
              "(1, 100)"
            ]
          },
          "metadata": {
            "tags": []
          },
          "execution_count": 22
        }
      ]
    },
    {
      "cell_type": "code",
      "metadata": {
        "colab": {
          "base_uri": "https://localhost:8080/"
        },
        "id": "zb9-IWdYUHYl",
        "outputId": "ba497e9d-a169-4a0a-e96d-11d8189fb8bb"
      },
      "source": [
        "temp_input=list(x_input)\r\n",
        "temp_input=temp_input[0].tolist()\r\n",
        "\r\n",
        "temp_input"
      ],
      "execution_count": null,
      "outputs": [
        {
          "output_type": "execute_result",
          "data": {
            "text/plain": [
              "[0.89455201443175,\n",
              " 0.8959470835838845,\n",
              " 0.9206494287432352,\n",
              " 0.9792904389657247,\n",
              " 0.9936019242333134,\n",
              " 0.9836680697534577,\n",
              " 1.0,\n",
              " 0.9854479855682503,\n",
              " 0.983499699338545,\n",
              " 0.09308478653036678,\n",
              " 0.10544798556825014,\n",
              " 0.09876127480457003,\n",
              " 0.07345760673481655,\n",
              " 0.07365003006614551,\n",
              " 0.05407095610342749,\n",
              " 0.06489476849067943,\n",
              " 0.055682501503307225,\n",
              " 0.052098616957306054,\n",
              " 0.0601683704149128,\n",
              " 0.06061334936861096,\n",
              " 0.05241130487071555,\n",
              " 0.04810583283223091,\n",
              " 0.03968731208659049,\n",
              " 0.04748045700541187,\n",
              " 0.05164161154539987,\n",
              " 0.04036079374624174,\n",
              " 0.04300661455201443,\n",
              " 0.05277209861695731,\n",
              " 0.05921828021647624,\n",
              " 0.05712567648827421,\n",
              " 0.06126277811184605,\n",
              " 0.06361996392062536,\n",
              " 0.05455201443174984,\n",
              " 0.062922429344558,\n",
              " 0.05488875526157544,\n",
              " 0.059506915213469624,\n",
              " 0.059242333132892344,\n",
              " 0.06405291641611544,\n",
              " 0.08192423331328924,\n",
              " 0.07398677089597111,\n",
              " 0.07420324714371618,\n",
              " 0.07304870715574258,\n",
              " 0.06898376428141911,\n",
              " 0.061671677690920024,\n",
              " 0.06535177390258567,\n",
              " 0.06381238725195432,\n",
              " 0.06111846061334936,\n",
              " 0.059410703547805144,\n",
              " 0.05943475646422125,\n",
              " 0.06316295850871917,\n",
              " 0.05017438364401683,\n",
              " 0.06008418520745634,\n",
              " 0.04454600120264579,\n",
              " 0.04432952495490078,\n",
              " 0.04834636199639203,\n",
              " 0.05919422730006013,\n",
              " 0.06900781719783522,\n",
              " 0.06819001803968727,\n",
              " 0.062489476849067915,\n",
              " 0.06164762477450386,\n",
              " 0.0701142513529765,\n",
              " 0.0694407696933253,\n",
              " 0.06956103427540589,\n",
              " 0.07206253758268188,\n",
              " 0.06987372218881538,\n",
              " 0.0666025255562237,\n",
              " 0.06806975345760674,\n",
              " 0.0649428743235117,\n",
              " 0.056548406494287384,\n",
              " 0.05972339146121464,\n",
              " 0.06179194227300061,\n",
              " 0.06313890559230306,\n",
              " 0.06905592303066743,\n",
              " 0.07788334335538183,\n",
              " 0.07874924834636199,\n",
              " 0.07841250751653633,\n",
              " 0.07675285628382439,\n",
              " 0.08036079374624172,\n",
              " 0.08187612748045697,\n",
              " 0.07562236921226695,\n",
              " 0.0791340950090198,\n",
              " 0.07713770294648226,\n",
              " 0.07562236921226695,\n",
              " 0.0902946482260974,\n",
              " 0.0901262778111846,\n",
              " 0.09226698737221883,\n",
              " 0.08734816596512324,\n",
              " 0.0911365003006614,\n",
              " 0.09991581479254358,\n",
              " 0.09770294648226097,\n",
              " 0.10013229104028859,\n",
              " 0.11148526758869509,\n",
              " 0.10710763680096214,\n",
              " 0.1043415514131088,\n",
              " 0.10186410102224891,\n",
              " 0.09397474443776305,\n",
              " 0.0978232110643415,\n",
              " 0.08721587492483462,\n",
              " 0.09760673481659649,\n",
              " 0.10032471437161755]"
            ]
          },
          "metadata": {
            "tags": []
          },
          "execution_count": 23
        }
      ]
    },
    {
      "cell_type": "code",
      "metadata": {
        "colab": {
          "base_uri": "https://localhost:8080/"
        },
        "id": "4v_sqB1xUHbO",
        "outputId": "a88feebf-fe30-4424-a75f-1249e3e5e8b5"
      },
      "source": [
        "# Prediction for next 10 days\r\n",
        "from numpy import array\r\n",
        "\r\n",
        "lst_output=[]\r\n",
        "n_steps=100\r\n",
        "i=0\r\n",
        "while(i<30):\r\n",
        "    \r\n",
        "    if(len(temp_input)>100):\r\n",
        "        #print(temp_input)\r\n",
        "        x_input=np.array(temp_input[1:])\r\n",
        "        print(\"{} day input {}\".format(i,x_input))\r\n",
        "        x_input=x_input.reshape(1,-1)\r\n",
        "        x_input = x_input.reshape((1, n_steps, 1))\r\n",
        "        #print(x_input)\r\n",
        "        yhat = model.predict(x_input, verbose=0)\r\n",
        "        print(\"{} day output {}\".format(i,yhat))\r\n",
        "        temp_input.extend(yhat[0].tolist())\r\n",
        "        temp_input=temp_input[1:]\r\n",
        "        #print(temp_input)\r\n",
        "        lst_output.extend(yhat.tolist())\r\n",
        "        i=i+1\r\n",
        "    else:\r\n",
        "        x_input = x_input.reshape((1, n_steps,1))\r\n",
        "        yhat = model.predict(x_input, verbose=0)\r\n",
        "        print(yhat[0])\r\n",
        "        temp_input.extend(yhat[0].tolist())\r\n",
        "        print(len(temp_input))\r\n",
        "        lst_output.extend(yhat.tolist())\r\n",
        "        i=i+1\r\n",
        "    \r\n",
        "\r\n",
        "print(lst_output)"
      ],
      "execution_count": null,
      "outputs": [
        {
          "output_type": "stream",
          "text": [
            "[0.09488589]\n",
            "101\n",
            "1 day input [0.89594708 0.92064943 0.97929044 0.99360192 0.98366807 1.\n",
            " 0.98544799 0.9834997  0.09308479 0.10544799 0.09876127 0.07345761\n",
            " 0.07365003 0.05407096 0.06489477 0.0556825  0.05209862 0.06016837\n",
            " 0.06061335 0.0524113  0.04810583 0.03968731 0.04748046 0.05164161\n",
            " 0.04036079 0.04300661 0.0527721  0.05921828 0.05712568 0.06126278\n",
            " 0.06361996 0.05455201 0.06292243 0.05488876 0.05950692 0.05924233\n",
            " 0.06405292 0.08192423 0.07398677 0.07420325 0.07304871 0.06898376\n",
            " 0.06167168 0.06535177 0.06381239 0.06111846 0.0594107  0.05943476\n",
            " 0.06316296 0.05017438 0.06008419 0.044546   0.04432952 0.04834636\n",
            " 0.05919423 0.06900782 0.06819002 0.06248948 0.06164762 0.07011425\n",
            " 0.06944077 0.06956103 0.07206254 0.06987372 0.06660253 0.06806975\n",
            " 0.06494287 0.05654841 0.05972339 0.06179194 0.06313891 0.06905592\n",
            " 0.07788334 0.07874925 0.07841251 0.07675286 0.08036079 0.08187613\n",
            " 0.07562237 0.0791341  0.0771377  0.07562237 0.09029465 0.09012628\n",
            " 0.09226699 0.08734817 0.0911365  0.09991581 0.09770295 0.10013229\n",
            " 0.11148527 0.10710764 0.10434155 0.1018641  0.09397474 0.09782321\n",
            " 0.08721587 0.09760673 0.10032471 0.09488589]\n",
            "1 day output [[0.09424722]]\n",
            "2 day input [0.92064943 0.97929044 0.99360192 0.98366807 1.         0.98544799\n",
            " 0.9834997  0.09308479 0.10544799 0.09876127 0.07345761 0.07365003\n",
            " 0.05407096 0.06489477 0.0556825  0.05209862 0.06016837 0.06061335\n",
            " 0.0524113  0.04810583 0.03968731 0.04748046 0.05164161 0.04036079\n",
            " 0.04300661 0.0527721  0.05921828 0.05712568 0.06126278 0.06361996\n",
            " 0.05455201 0.06292243 0.05488876 0.05950692 0.05924233 0.06405292\n",
            " 0.08192423 0.07398677 0.07420325 0.07304871 0.06898376 0.06167168\n",
            " 0.06535177 0.06381239 0.06111846 0.0594107  0.05943476 0.06316296\n",
            " 0.05017438 0.06008419 0.044546   0.04432952 0.04834636 0.05919423\n",
            " 0.06900782 0.06819002 0.06248948 0.06164762 0.07011425 0.06944077\n",
            " 0.06956103 0.07206254 0.06987372 0.06660253 0.06806975 0.06494287\n",
            " 0.05654841 0.05972339 0.06179194 0.06313891 0.06905592 0.07788334\n",
            " 0.07874925 0.07841251 0.07675286 0.08036079 0.08187613 0.07562237\n",
            " 0.0791341  0.0771377  0.07562237 0.09029465 0.09012628 0.09226699\n",
            " 0.08734817 0.0911365  0.09991581 0.09770295 0.10013229 0.11148527\n",
            " 0.10710764 0.10434155 0.1018641  0.09397474 0.09782321 0.08721587\n",
            " 0.09760673 0.10032471 0.09488589 0.09424722]\n",
            "2 day output [[0.09391944]]\n",
            "3 day input [0.97929044 0.99360192 0.98366807 1.         0.98544799 0.9834997\n",
            " 0.09308479 0.10544799 0.09876127 0.07345761 0.07365003 0.05407096\n",
            " 0.06489477 0.0556825  0.05209862 0.06016837 0.06061335 0.0524113\n",
            " 0.04810583 0.03968731 0.04748046 0.05164161 0.04036079 0.04300661\n",
            " 0.0527721  0.05921828 0.05712568 0.06126278 0.06361996 0.05455201\n",
            " 0.06292243 0.05488876 0.05950692 0.05924233 0.06405292 0.08192423\n",
            " 0.07398677 0.07420325 0.07304871 0.06898376 0.06167168 0.06535177\n",
            " 0.06381239 0.06111846 0.0594107  0.05943476 0.06316296 0.05017438\n",
            " 0.06008419 0.044546   0.04432952 0.04834636 0.05919423 0.06900782\n",
            " 0.06819002 0.06248948 0.06164762 0.07011425 0.06944077 0.06956103\n",
            " 0.07206254 0.06987372 0.06660253 0.06806975 0.06494287 0.05654841\n",
            " 0.05972339 0.06179194 0.06313891 0.06905592 0.07788334 0.07874925\n",
            " 0.07841251 0.07675286 0.08036079 0.08187613 0.07562237 0.0791341\n",
            " 0.0771377  0.07562237 0.09029465 0.09012628 0.09226699 0.08734817\n",
            " 0.0911365  0.09991581 0.09770295 0.10013229 0.11148527 0.10710764\n",
            " 0.10434155 0.1018641  0.09397474 0.09782321 0.08721587 0.09760673\n",
            " 0.10032471 0.09488589 0.09424722 0.09391944]\n",
            "3 day output [[0.09377027]]\n",
            "4 day input [0.99360192 0.98366807 1.         0.98544799 0.9834997  0.09308479\n",
            " 0.10544799 0.09876127 0.07345761 0.07365003 0.05407096 0.06489477\n",
            " 0.0556825  0.05209862 0.06016837 0.06061335 0.0524113  0.04810583\n",
            " 0.03968731 0.04748046 0.05164161 0.04036079 0.04300661 0.0527721\n",
            " 0.05921828 0.05712568 0.06126278 0.06361996 0.05455201 0.06292243\n",
            " 0.05488876 0.05950692 0.05924233 0.06405292 0.08192423 0.07398677\n",
            " 0.07420325 0.07304871 0.06898376 0.06167168 0.06535177 0.06381239\n",
            " 0.06111846 0.0594107  0.05943476 0.06316296 0.05017438 0.06008419\n",
            " 0.044546   0.04432952 0.04834636 0.05919423 0.06900782 0.06819002\n",
            " 0.06248948 0.06164762 0.07011425 0.06944077 0.06956103 0.07206254\n",
            " 0.06987372 0.06660253 0.06806975 0.06494287 0.05654841 0.05972339\n",
            " 0.06179194 0.06313891 0.06905592 0.07788334 0.07874925 0.07841251\n",
            " 0.07675286 0.08036079 0.08187613 0.07562237 0.0791341  0.0771377\n",
            " 0.07562237 0.09029465 0.09012628 0.09226699 0.08734817 0.0911365\n",
            " 0.09991581 0.09770295 0.10013229 0.11148527 0.10710764 0.10434155\n",
            " 0.1018641  0.09397474 0.09782321 0.08721587 0.09760673 0.10032471\n",
            " 0.09488589 0.09424722 0.09391944 0.09377027]\n",
            "4 day output [[0.09373491]]\n",
            "5 day input [0.98366807 1.         0.98544799 0.9834997  0.09308479 0.10544799\n",
            " 0.09876127 0.07345761 0.07365003 0.05407096 0.06489477 0.0556825\n",
            " 0.05209862 0.06016837 0.06061335 0.0524113  0.04810583 0.03968731\n",
            " 0.04748046 0.05164161 0.04036079 0.04300661 0.0527721  0.05921828\n",
            " 0.05712568 0.06126278 0.06361996 0.05455201 0.06292243 0.05488876\n",
            " 0.05950692 0.05924233 0.06405292 0.08192423 0.07398677 0.07420325\n",
            " 0.07304871 0.06898376 0.06167168 0.06535177 0.06381239 0.06111846\n",
            " 0.0594107  0.05943476 0.06316296 0.05017438 0.06008419 0.044546\n",
            " 0.04432952 0.04834636 0.05919423 0.06900782 0.06819002 0.06248948\n",
            " 0.06164762 0.07011425 0.06944077 0.06956103 0.07206254 0.06987372\n",
            " 0.06660253 0.06806975 0.06494287 0.05654841 0.05972339 0.06179194\n",
            " 0.06313891 0.06905592 0.07788334 0.07874925 0.07841251 0.07675286\n",
            " 0.08036079 0.08187613 0.07562237 0.0791341  0.0771377  0.07562237\n",
            " 0.09029465 0.09012628 0.09226699 0.08734817 0.0911365  0.09991581\n",
            " 0.09770295 0.10013229 0.11148527 0.10710764 0.10434155 0.1018641\n",
            " 0.09397474 0.09782321 0.08721587 0.09760673 0.10032471 0.09488589\n",
            " 0.09424722 0.09391944 0.09377027 0.09373491]\n",
            "5 day output [[0.09378447]]\n",
            "6 day input [1.         0.98544799 0.9834997  0.09308479 0.10544799 0.09876127\n",
            " 0.07345761 0.07365003 0.05407096 0.06489477 0.0556825  0.05209862\n",
            " 0.06016837 0.06061335 0.0524113  0.04810583 0.03968731 0.04748046\n",
            " 0.05164161 0.04036079 0.04300661 0.0527721  0.05921828 0.05712568\n",
            " 0.06126278 0.06361996 0.05455201 0.06292243 0.05488876 0.05950692\n",
            " 0.05924233 0.06405292 0.08192423 0.07398677 0.07420325 0.07304871\n",
            " 0.06898376 0.06167168 0.06535177 0.06381239 0.06111846 0.0594107\n",
            " 0.05943476 0.06316296 0.05017438 0.06008419 0.044546   0.04432952\n",
            " 0.04834636 0.05919423 0.06900782 0.06819002 0.06248948 0.06164762\n",
            " 0.07011425 0.06944077 0.06956103 0.07206254 0.06987372 0.06660253\n",
            " 0.06806975 0.06494287 0.05654841 0.05972339 0.06179194 0.06313891\n",
            " 0.06905592 0.07788334 0.07874925 0.07841251 0.07675286 0.08036079\n",
            " 0.08187613 0.07562237 0.0791341  0.0771377  0.07562237 0.09029465\n",
            " 0.09012628 0.09226699 0.08734817 0.0911365  0.09991581 0.09770295\n",
            " 0.10013229 0.11148527 0.10710764 0.10434155 0.1018641  0.09397474\n",
            " 0.09782321 0.08721587 0.09760673 0.10032471 0.09488589 0.09424722\n",
            " 0.09391944 0.09377027 0.09373491 0.09378447]\n",
            "6 day output [[0.09390469]]\n",
            "7 day input [0.98544799 0.9834997  0.09308479 0.10544799 0.09876127 0.07345761\n",
            " 0.07365003 0.05407096 0.06489477 0.0556825  0.05209862 0.06016837\n",
            " 0.06061335 0.0524113  0.04810583 0.03968731 0.04748046 0.05164161\n",
            " 0.04036079 0.04300661 0.0527721  0.05921828 0.05712568 0.06126278\n",
            " 0.06361996 0.05455201 0.06292243 0.05488876 0.05950692 0.05924233\n",
            " 0.06405292 0.08192423 0.07398677 0.07420325 0.07304871 0.06898376\n",
            " 0.06167168 0.06535177 0.06381239 0.06111846 0.0594107  0.05943476\n",
            " 0.06316296 0.05017438 0.06008419 0.044546   0.04432952 0.04834636\n",
            " 0.05919423 0.06900782 0.06819002 0.06248948 0.06164762 0.07011425\n",
            " 0.06944077 0.06956103 0.07206254 0.06987372 0.06660253 0.06806975\n",
            " 0.06494287 0.05654841 0.05972339 0.06179194 0.06313891 0.06905592\n",
            " 0.07788334 0.07874925 0.07841251 0.07675286 0.08036079 0.08187613\n",
            " 0.07562237 0.0791341  0.0771377  0.07562237 0.09029465 0.09012628\n",
            " 0.09226699 0.08734817 0.0911365  0.09991581 0.09770295 0.10013229\n",
            " 0.11148527 0.10710764 0.10434155 0.1018641  0.09397474 0.09782321\n",
            " 0.08721587 0.09760673 0.10032471 0.09488589 0.09424722 0.09391944\n",
            " 0.09377027 0.09373491 0.09378447 0.09390469]\n",
            "7 day output [[0.09408506]]\n",
            "8 day input [0.9834997  0.09308479 0.10544799 0.09876127 0.07345761 0.07365003\n",
            " 0.05407096 0.06489477 0.0556825  0.05209862 0.06016837 0.06061335\n",
            " 0.0524113  0.04810583 0.03968731 0.04748046 0.05164161 0.04036079\n",
            " 0.04300661 0.0527721  0.05921828 0.05712568 0.06126278 0.06361996\n",
            " 0.05455201 0.06292243 0.05488876 0.05950692 0.05924233 0.06405292\n",
            " 0.08192423 0.07398677 0.07420325 0.07304871 0.06898376 0.06167168\n",
            " 0.06535177 0.06381239 0.06111846 0.0594107  0.05943476 0.06316296\n",
            " 0.05017438 0.06008419 0.044546   0.04432952 0.04834636 0.05919423\n",
            " 0.06900782 0.06819002 0.06248948 0.06164762 0.07011425 0.06944077\n",
            " 0.06956103 0.07206254 0.06987372 0.06660253 0.06806975 0.06494287\n",
            " 0.05654841 0.05972339 0.06179194 0.06313891 0.06905592 0.07788334\n",
            " 0.07874925 0.07841251 0.07675286 0.08036079 0.08187613 0.07562237\n",
            " 0.0791341  0.0771377  0.07562237 0.09029465 0.09012628 0.09226699\n",
            " 0.08734817 0.0911365  0.09991581 0.09770295 0.10013229 0.11148527\n",
            " 0.10710764 0.10434155 0.1018641  0.09397474 0.09782321 0.08721587\n",
            " 0.09760673 0.10032471 0.09488589 0.09424722 0.09391944 0.09377027\n",
            " 0.09373491 0.09378447 0.09390469 0.09408506]\n",
            "8 day output [[0.09431444]]\n",
            "9 day input [0.09308479 0.10544799 0.09876127 0.07345761 0.07365003 0.05407096\n",
            " 0.06489477 0.0556825  0.05209862 0.06016837 0.06061335 0.0524113\n",
            " 0.04810583 0.03968731 0.04748046 0.05164161 0.04036079 0.04300661\n",
            " 0.0527721  0.05921828 0.05712568 0.06126278 0.06361996 0.05455201\n",
            " 0.06292243 0.05488876 0.05950692 0.05924233 0.06405292 0.08192423\n",
            " 0.07398677 0.07420325 0.07304871 0.06898376 0.06167168 0.06535177\n",
            " 0.06381239 0.06111846 0.0594107  0.05943476 0.06316296 0.05017438\n",
            " 0.06008419 0.044546   0.04432952 0.04834636 0.05919423 0.06900782\n",
            " 0.06819002 0.06248948 0.06164762 0.07011425 0.06944077 0.06956103\n",
            " 0.07206254 0.06987372 0.06660253 0.06806975 0.06494287 0.05654841\n",
            " 0.05972339 0.06179194 0.06313891 0.06905592 0.07788334 0.07874925\n",
            " 0.07841251 0.07675286 0.08036079 0.08187613 0.07562237 0.0791341\n",
            " 0.0771377  0.07562237 0.09029465 0.09012628 0.09226699 0.08734817\n",
            " 0.0911365  0.09991581 0.09770295 0.10013229 0.11148527 0.10710764\n",
            " 0.10434155 0.1018641  0.09397474 0.09782321 0.08721587 0.09760673\n",
            " 0.10032471 0.09488589 0.09424722 0.09391944 0.09377027 0.09373491\n",
            " 0.09378447 0.09390469 0.09408506 0.09431444]\n",
            "9 day output [[0.09458055]]\n",
            "10 day input [0.10544799 0.09876127 0.07345761 0.07365003 0.05407096 0.06489477\n",
            " 0.0556825  0.05209862 0.06016837 0.06061335 0.0524113  0.04810583\n",
            " 0.03968731 0.04748046 0.05164161 0.04036079 0.04300661 0.0527721\n",
            " 0.05921828 0.05712568 0.06126278 0.06361996 0.05455201 0.06292243\n",
            " 0.05488876 0.05950692 0.05924233 0.06405292 0.08192423 0.07398677\n",
            " 0.07420325 0.07304871 0.06898376 0.06167168 0.06535177 0.06381239\n",
            " 0.06111846 0.0594107  0.05943476 0.06316296 0.05017438 0.06008419\n",
            " 0.044546   0.04432952 0.04834636 0.05919423 0.06900782 0.06819002\n",
            " 0.06248948 0.06164762 0.07011425 0.06944077 0.06956103 0.07206254\n",
            " 0.06987372 0.06660253 0.06806975 0.06494287 0.05654841 0.05972339\n",
            " 0.06179194 0.06313891 0.06905592 0.07788334 0.07874925 0.07841251\n",
            " 0.07675286 0.08036079 0.08187613 0.07562237 0.0791341  0.0771377\n",
            " 0.07562237 0.09029465 0.09012628 0.09226699 0.08734817 0.0911365\n",
            " 0.09991581 0.09770295 0.10013229 0.11148527 0.10710764 0.10434155\n",
            " 0.1018641  0.09397474 0.09782321 0.08721587 0.09760673 0.10032471\n",
            " 0.09488589 0.09424722 0.09391944 0.09377027 0.09373491 0.09378447\n",
            " 0.09390469 0.09408506 0.09431444 0.09458055]\n",
            "10 day output [[0.09487062]]\n",
            "11 day input [0.09876127 0.07345761 0.07365003 0.05407096 0.06489477 0.0556825\n",
            " 0.05209862 0.06016837 0.06061335 0.0524113  0.04810583 0.03968731\n",
            " 0.04748046 0.05164161 0.04036079 0.04300661 0.0527721  0.05921828\n",
            " 0.05712568 0.06126278 0.06361996 0.05455201 0.06292243 0.05488876\n",
            " 0.05950692 0.05924233 0.06405292 0.08192423 0.07398677 0.07420325\n",
            " 0.07304871 0.06898376 0.06167168 0.06535177 0.06381239 0.06111846\n",
            " 0.0594107  0.05943476 0.06316296 0.05017438 0.06008419 0.044546\n",
            " 0.04432952 0.04834636 0.05919423 0.06900782 0.06819002 0.06248948\n",
            " 0.06164762 0.07011425 0.06944077 0.06956103 0.07206254 0.06987372\n",
            " 0.06660253 0.06806975 0.06494287 0.05654841 0.05972339 0.06179194\n",
            " 0.06313891 0.06905592 0.07788334 0.07874925 0.07841251 0.07675286\n",
            " 0.08036079 0.08187613 0.07562237 0.0791341  0.0771377  0.07562237\n",
            " 0.09029465 0.09012628 0.09226699 0.08734817 0.0911365  0.09991581\n",
            " 0.09770295 0.10013229 0.11148527 0.10710764 0.10434155 0.1018641\n",
            " 0.09397474 0.09782321 0.08721587 0.09760673 0.10032471 0.09488589\n",
            " 0.09424722 0.09391944 0.09377027 0.09373491 0.09378447 0.09390469\n",
            " 0.09408506 0.09431444 0.09458055 0.09487062]\n",
            "11 day output [[0.09517264]]\n",
            "12 day input [0.07345761 0.07365003 0.05407096 0.06489477 0.0556825  0.05209862\n",
            " 0.06016837 0.06061335 0.0524113  0.04810583 0.03968731 0.04748046\n",
            " 0.05164161 0.04036079 0.04300661 0.0527721  0.05921828 0.05712568\n",
            " 0.06126278 0.06361996 0.05455201 0.06292243 0.05488876 0.05950692\n",
            " 0.05924233 0.06405292 0.08192423 0.07398677 0.07420325 0.07304871\n",
            " 0.06898376 0.06167168 0.06535177 0.06381239 0.06111846 0.0594107\n",
            " 0.05943476 0.06316296 0.05017438 0.06008419 0.044546   0.04432952\n",
            " 0.04834636 0.05919423 0.06900782 0.06819002 0.06248948 0.06164762\n",
            " 0.07011425 0.06944077 0.06956103 0.07206254 0.06987372 0.06660253\n",
            " 0.06806975 0.06494287 0.05654841 0.05972339 0.06179194 0.06313891\n",
            " 0.06905592 0.07788334 0.07874925 0.07841251 0.07675286 0.08036079\n",
            " 0.08187613 0.07562237 0.0791341  0.0771377  0.07562237 0.09029465\n",
            " 0.09012628 0.09226699 0.08734817 0.0911365  0.09991581 0.09770295\n",
            " 0.10013229 0.11148527 0.10710764 0.10434155 0.1018641  0.09397474\n",
            " 0.09782321 0.08721587 0.09760673 0.10032471 0.09488589 0.09424722\n",
            " 0.09391944 0.09377027 0.09373491 0.09378447 0.09390469 0.09408506\n",
            " 0.09431444 0.09458055 0.09487062 0.09517264]\n",
            "12 day output [[0.09547583]]\n",
            "13 day input [0.07365003 0.05407096 0.06489477 0.0556825  0.05209862 0.06016837\n",
            " 0.06061335 0.0524113  0.04810583 0.03968731 0.04748046 0.05164161\n",
            " 0.04036079 0.04300661 0.0527721  0.05921828 0.05712568 0.06126278\n",
            " 0.06361996 0.05455201 0.06292243 0.05488876 0.05950692 0.05924233\n",
            " 0.06405292 0.08192423 0.07398677 0.07420325 0.07304871 0.06898376\n",
            " 0.06167168 0.06535177 0.06381239 0.06111846 0.0594107  0.05943476\n",
            " 0.06316296 0.05017438 0.06008419 0.044546   0.04432952 0.04834636\n",
            " 0.05919423 0.06900782 0.06819002 0.06248948 0.06164762 0.07011425\n",
            " 0.06944077 0.06956103 0.07206254 0.06987372 0.06660253 0.06806975\n",
            " 0.06494287 0.05654841 0.05972339 0.06179194 0.06313891 0.06905592\n",
            " 0.07788334 0.07874925 0.07841251 0.07675286 0.08036079 0.08187613\n",
            " 0.07562237 0.0791341  0.0771377  0.07562237 0.09029465 0.09012628\n",
            " 0.09226699 0.08734817 0.0911365  0.09991581 0.09770295 0.10013229\n",
            " 0.11148527 0.10710764 0.10434155 0.1018641  0.09397474 0.09782321\n",
            " 0.08721587 0.09760673 0.10032471 0.09488589 0.09424722 0.09391944\n",
            " 0.09377027 0.09373491 0.09378447 0.09390469 0.09408506 0.09431444\n",
            " 0.09458055 0.09487062 0.09517264 0.09547583]\n",
            "13 day output [[0.09577135]]\n",
            "14 day input [0.05407096 0.06489477 0.0556825  0.05209862 0.06016837 0.06061335\n",
            " 0.0524113  0.04810583 0.03968731 0.04748046 0.05164161 0.04036079\n",
            " 0.04300661 0.0527721  0.05921828 0.05712568 0.06126278 0.06361996\n",
            " 0.05455201 0.06292243 0.05488876 0.05950692 0.05924233 0.06405292\n",
            " 0.08192423 0.07398677 0.07420325 0.07304871 0.06898376 0.06167168\n",
            " 0.06535177 0.06381239 0.06111846 0.0594107  0.05943476 0.06316296\n",
            " 0.05017438 0.06008419 0.044546   0.04432952 0.04834636 0.05919423\n",
            " 0.06900782 0.06819002 0.06248948 0.06164762 0.07011425 0.06944077\n",
            " 0.06956103 0.07206254 0.06987372 0.06660253 0.06806975 0.06494287\n",
            " 0.05654841 0.05972339 0.06179194 0.06313891 0.06905592 0.07788334\n",
            " 0.07874925 0.07841251 0.07675286 0.08036079 0.08187613 0.07562237\n",
            " 0.0791341  0.0771377  0.07562237 0.09029465 0.09012628 0.09226699\n",
            " 0.08734817 0.0911365  0.09991581 0.09770295 0.10013229 0.11148527\n",
            " 0.10710764 0.10434155 0.1018641  0.09397474 0.09782321 0.08721587\n",
            " 0.09760673 0.10032471 0.09488589 0.09424722 0.09391944 0.09377027\n",
            " 0.09373491 0.09378447 0.09390469 0.09408506 0.09431444 0.09458055\n",
            " 0.09487062 0.09517264 0.09547583 0.09577135]\n",
            "14 day output [[0.09605234]]\n",
            "15 day input [0.06489477 0.0556825  0.05209862 0.06016837 0.06061335 0.0524113\n",
            " 0.04810583 0.03968731 0.04748046 0.05164161 0.04036079 0.04300661\n",
            " 0.0527721  0.05921828 0.05712568 0.06126278 0.06361996 0.05455201\n",
            " 0.06292243 0.05488876 0.05950692 0.05924233 0.06405292 0.08192423\n",
            " 0.07398677 0.07420325 0.07304871 0.06898376 0.06167168 0.06535177\n",
            " 0.06381239 0.06111846 0.0594107  0.05943476 0.06316296 0.05017438\n",
            " 0.06008419 0.044546   0.04432952 0.04834636 0.05919423 0.06900782\n",
            " 0.06819002 0.06248948 0.06164762 0.07011425 0.06944077 0.06956103\n",
            " 0.07206254 0.06987372 0.06660253 0.06806975 0.06494287 0.05654841\n",
            " 0.05972339 0.06179194 0.06313891 0.06905592 0.07788334 0.07874925\n",
            " 0.07841251 0.07675286 0.08036079 0.08187613 0.07562237 0.0791341\n",
            " 0.0771377  0.07562237 0.09029465 0.09012628 0.09226699 0.08734817\n",
            " 0.0911365  0.09991581 0.09770295 0.10013229 0.11148527 0.10710764\n",
            " 0.10434155 0.1018641  0.09397474 0.09782321 0.08721587 0.09760673\n",
            " 0.10032471 0.09488589 0.09424722 0.09391944 0.09377027 0.09373491\n",
            " 0.09378447 0.09390469 0.09408506 0.09431444 0.09458055 0.09487062\n",
            " 0.09517264 0.09547583 0.09577135 0.09605234]\n",
            "15 day output [[0.09631399]]\n",
            "16 day input [0.0556825  0.05209862 0.06016837 0.06061335 0.0524113  0.04810583\n",
            " 0.03968731 0.04748046 0.05164161 0.04036079 0.04300661 0.0527721\n",
            " 0.05921828 0.05712568 0.06126278 0.06361996 0.05455201 0.06292243\n",
            " 0.05488876 0.05950692 0.05924233 0.06405292 0.08192423 0.07398677\n",
            " 0.07420325 0.07304871 0.06898376 0.06167168 0.06535177 0.06381239\n",
            " 0.06111846 0.0594107  0.05943476 0.06316296 0.05017438 0.06008419\n",
            " 0.044546   0.04432952 0.04834636 0.05919423 0.06900782 0.06819002\n",
            " 0.06248948 0.06164762 0.07011425 0.06944077 0.06956103 0.07206254\n",
            " 0.06987372 0.06660253 0.06806975 0.06494287 0.05654841 0.05972339\n",
            " 0.06179194 0.06313891 0.06905592 0.07788334 0.07874925 0.07841251\n",
            " 0.07675286 0.08036079 0.08187613 0.07562237 0.0791341  0.0771377\n",
            " 0.07562237 0.09029465 0.09012628 0.09226699 0.08734817 0.0911365\n",
            " 0.09991581 0.09770295 0.10013229 0.11148527 0.10710764 0.10434155\n",
            " 0.1018641  0.09397474 0.09782321 0.08721587 0.09760673 0.10032471\n",
            " 0.09488589 0.09424722 0.09391944 0.09377027 0.09373491 0.09378447\n",
            " 0.09390469 0.09408506 0.09431444 0.09458055 0.09487062 0.09517264\n",
            " 0.09547583 0.09577135 0.09605234 0.09631399]\n",
            "16 day output [[0.09655339]]\n",
            "17 day input [0.05209862 0.06016837 0.06061335 0.0524113  0.04810583 0.03968731\n",
            " 0.04748046 0.05164161 0.04036079 0.04300661 0.0527721  0.05921828\n",
            " 0.05712568 0.06126278 0.06361996 0.05455201 0.06292243 0.05488876\n",
            " 0.05950692 0.05924233 0.06405292 0.08192423 0.07398677 0.07420325\n",
            " 0.07304871 0.06898376 0.06167168 0.06535177 0.06381239 0.06111846\n",
            " 0.0594107  0.05943476 0.06316296 0.05017438 0.06008419 0.044546\n",
            " 0.04432952 0.04834636 0.05919423 0.06900782 0.06819002 0.06248948\n",
            " 0.06164762 0.07011425 0.06944077 0.06956103 0.07206254 0.06987372\n",
            " 0.06660253 0.06806975 0.06494287 0.05654841 0.05972339 0.06179194\n",
            " 0.06313891 0.06905592 0.07788334 0.07874925 0.07841251 0.07675286\n",
            " 0.08036079 0.08187613 0.07562237 0.0791341  0.0771377  0.07562237\n",
            " 0.09029465 0.09012628 0.09226699 0.08734817 0.0911365  0.09991581\n",
            " 0.09770295 0.10013229 0.11148527 0.10710764 0.10434155 0.1018641\n",
            " 0.09397474 0.09782321 0.08721587 0.09760673 0.10032471 0.09488589\n",
            " 0.09424722 0.09391944 0.09377027 0.09373491 0.09378447 0.09390469\n",
            " 0.09408506 0.09431444 0.09458055 0.09487062 0.09517264 0.09547583\n",
            " 0.09577135 0.09605234 0.09631399 0.09655339]\n",
            "17 day output [[0.09676926]]\n",
            "18 day input [0.06016837 0.06061335 0.0524113  0.04810583 0.03968731 0.04748046\n",
            " 0.05164161 0.04036079 0.04300661 0.0527721  0.05921828 0.05712568\n",
            " 0.06126278 0.06361996 0.05455201 0.06292243 0.05488876 0.05950692\n",
            " 0.05924233 0.06405292 0.08192423 0.07398677 0.07420325 0.07304871\n",
            " 0.06898376 0.06167168 0.06535177 0.06381239 0.06111846 0.0594107\n",
            " 0.05943476 0.06316296 0.05017438 0.06008419 0.044546   0.04432952\n",
            " 0.04834636 0.05919423 0.06900782 0.06819002 0.06248948 0.06164762\n",
            " 0.07011425 0.06944077 0.06956103 0.07206254 0.06987372 0.06660253\n",
            " 0.06806975 0.06494287 0.05654841 0.05972339 0.06179194 0.06313891\n",
            " 0.06905592 0.07788334 0.07874925 0.07841251 0.07675286 0.08036079\n",
            " 0.08187613 0.07562237 0.0791341  0.0771377  0.07562237 0.09029465\n",
            " 0.09012628 0.09226699 0.08734817 0.0911365  0.09991581 0.09770295\n",
            " 0.10013229 0.11148527 0.10710764 0.10434155 0.1018641  0.09397474\n",
            " 0.09782321 0.08721587 0.09760673 0.10032471 0.09488589 0.09424722\n",
            " 0.09391944 0.09377027 0.09373491 0.09378447 0.09390469 0.09408506\n",
            " 0.09431444 0.09458055 0.09487062 0.09517264 0.09547583 0.09577135\n",
            " 0.09605234 0.09631399 0.09655339 0.09676926]\n",
            "18 day output [[0.09696168]]\n",
            "19 day input [0.06061335 0.0524113  0.04810583 0.03968731 0.04748046 0.05164161\n",
            " 0.04036079 0.04300661 0.0527721  0.05921828 0.05712568 0.06126278\n",
            " 0.06361996 0.05455201 0.06292243 0.05488876 0.05950692 0.05924233\n",
            " 0.06405292 0.08192423 0.07398677 0.07420325 0.07304871 0.06898376\n",
            " 0.06167168 0.06535177 0.06381239 0.06111846 0.0594107  0.05943476\n",
            " 0.06316296 0.05017438 0.06008419 0.044546   0.04432952 0.04834636\n",
            " 0.05919423 0.06900782 0.06819002 0.06248948 0.06164762 0.07011425\n",
            " 0.06944077 0.06956103 0.07206254 0.06987372 0.06660253 0.06806975\n",
            " 0.06494287 0.05654841 0.05972339 0.06179194 0.06313891 0.06905592\n",
            " 0.07788334 0.07874925 0.07841251 0.07675286 0.08036079 0.08187613\n",
            " 0.07562237 0.0791341  0.0771377  0.07562237 0.09029465 0.09012628\n",
            " 0.09226699 0.08734817 0.0911365  0.09991581 0.09770295 0.10013229\n",
            " 0.11148527 0.10710764 0.10434155 0.1018641  0.09397474 0.09782321\n",
            " 0.08721587 0.09760673 0.10032471 0.09488589 0.09424722 0.09391944\n",
            " 0.09377027 0.09373491 0.09378447 0.09390469 0.09408506 0.09431444\n",
            " 0.09458055 0.09487062 0.09517264 0.09547583 0.09577135 0.09605234\n",
            " 0.09631399 0.09655339 0.09676926 0.09696168]\n",
            "19 day output [[0.09713189]]\n",
            "20 day input [0.0524113  0.04810583 0.03968731 0.04748046 0.05164161 0.04036079\n",
            " 0.04300661 0.0527721  0.05921828 0.05712568 0.06126278 0.06361996\n",
            " 0.05455201 0.06292243 0.05488876 0.05950692 0.05924233 0.06405292\n",
            " 0.08192423 0.07398677 0.07420325 0.07304871 0.06898376 0.06167168\n",
            " 0.06535177 0.06381239 0.06111846 0.0594107  0.05943476 0.06316296\n",
            " 0.05017438 0.06008419 0.044546   0.04432952 0.04834636 0.05919423\n",
            " 0.06900782 0.06819002 0.06248948 0.06164762 0.07011425 0.06944077\n",
            " 0.06956103 0.07206254 0.06987372 0.06660253 0.06806975 0.06494287\n",
            " 0.05654841 0.05972339 0.06179194 0.06313891 0.06905592 0.07788334\n",
            " 0.07874925 0.07841251 0.07675286 0.08036079 0.08187613 0.07562237\n",
            " 0.0791341  0.0771377  0.07562237 0.09029465 0.09012628 0.09226699\n",
            " 0.08734817 0.0911365  0.09991581 0.09770295 0.10013229 0.11148527\n",
            " 0.10710764 0.10434155 0.1018641  0.09397474 0.09782321 0.08721587\n",
            " 0.09760673 0.10032471 0.09488589 0.09424722 0.09391944 0.09377027\n",
            " 0.09373491 0.09378447 0.09390469 0.09408506 0.09431444 0.09458055\n",
            " 0.09487062 0.09517264 0.09547583 0.09577135 0.09605234 0.09631399\n",
            " 0.09655339 0.09676926 0.09696168 0.09713189]\n",
            "20 day output [[0.09728195]]\n",
            "21 day input [0.04810583 0.03968731 0.04748046 0.05164161 0.04036079 0.04300661\n",
            " 0.0527721  0.05921828 0.05712568 0.06126278 0.06361996 0.05455201\n",
            " 0.06292243 0.05488876 0.05950692 0.05924233 0.06405292 0.08192423\n",
            " 0.07398677 0.07420325 0.07304871 0.06898376 0.06167168 0.06535177\n",
            " 0.06381239 0.06111846 0.0594107  0.05943476 0.06316296 0.05017438\n",
            " 0.06008419 0.044546   0.04432952 0.04834636 0.05919423 0.06900782\n",
            " 0.06819002 0.06248948 0.06164762 0.07011425 0.06944077 0.06956103\n",
            " 0.07206254 0.06987372 0.06660253 0.06806975 0.06494287 0.05654841\n",
            " 0.05972339 0.06179194 0.06313891 0.06905592 0.07788334 0.07874925\n",
            " 0.07841251 0.07675286 0.08036079 0.08187613 0.07562237 0.0791341\n",
            " 0.0771377  0.07562237 0.09029465 0.09012628 0.09226699 0.08734817\n",
            " 0.0911365  0.09991581 0.09770295 0.10013229 0.11148527 0.10710764\n",
            " 0.10434155 0.1018641  0.09397474 0.09782321 0.08721587 0.09760673\n",
            " 0.10032471 0.09488589 0.09424722 0.09391944 0.09377027 0.09373491\n",
            " 0.09378447 0.09390469 0.09408506 0.09431444 0.09458055 0.09487062\n",
            " 0.09517264 0.09547583 0.09577135 0.09605234 0.09631399 0.09655339\n",
            " 0.09676926 0.09696168 0.09713189 0.09728195]\n",
            "21 day output [[0.09741452]]\n",
            "22 day input [0.03968731 0.04748046 0.05164161 0.04036079 0.04300661 0.0527721\n",
            " 0.05921828 0.05712568 0.06126278 0.06361996 0.05455201 0.06292243\n",
            " 0.05488876 0.05950692 0.05924233 0.06405292 0.08192423 0.07398677\n",
            " 0.07420325 0.07304871 0.06898376 0.06167168 0.06535177 0.06381239\n",
            " 0.06111846 0.0594107  0.05943476 0.06316296 0.05017438 0.06008419\n",
            " 0.044546   0.04432952 0.04834636 0.05919423 0.06900782 0.06819002\n",
            " 0.06248948 0.06164762 0.07011425 0.06944077 0.06956103 0.07206254\n",
            " 0.06987372 0.06660253 0.06806975 0.06494287 0.05654841 0.05972339\n",
            " 0.06179194 0.06313891 0.06905592 0.07788334 0.07874925 0.07841251\n",
            " 0.07675286 0.08036079 0.08187613 0.07562237 0.0791341  0.0771377\n",
            " 0.07562237 0.09029465 0.09012628 0.09226699 0.08734817 0.0911365\n",
            " 0.09991581 0.09770295 0.10013229 0.11148527 0.10710764 0.10434155\n",
            " 0.1018641  0.09397474 0.09782321 0.08721587 0.09760673 0.10032471\n",
            " 0.09488589 0.09424722 0.09391944 0.09377027 0.09373491 0.09378447\n",
            " 0.09390469 0.09408506 0.09431444 0.09458055 0.09487062 0.09517264\n",
            " 0.09547583 0.09577135 0.09605234 0.09631399 0.09655339 0.09676926\n",
            " 0.09696168 0.09713189 0.09728195 0.09741452]\n",
            "22 day output [[0.09753254]]\n",
            "23 day input [0.04748046 0.05164161 0.04036079 0.04300661 0.0527721  0.05921828\n",
            " 0.05712568 0.06126278 0.06361996 0.05455201 0.06292243 0.05488876\n",
            " 0.05950692 0.05924233 0.06405292 0.08192423 0.07398677 0.07420325\n",
            " 0.07304871 0.06898376 0.06167168 0.06535177 0.06381239 0.06111846\n",
            " 0.0594107  0.05943476 0.06316296 0.05017438 0.06008419 0.044546\n",
            " 0.04432952 0.04834636 0.05919423 0.06900782 0.06819002 0.06248948\n",
            " 0.06164762 0.07011425 0.06944077 0.06956103 0.07206254 0.06987372\n",
            " 0.06660253 0.06806975 0.06494287 0.05654841 0.05972339 0.06179194\n",
            " 0.06313891 0.06905592 0.07788334 0.07874925 0.07841251 0.07675286\n",
            " 0.08036079 0.08187613 0.07562237 0.0791341  0.0771377  0.07562237\n",
            " 0.09029465 0.09012628 0.09226699 0.08734817 0.0911365  0.09991581\n",
            " 0.09770295 0.10013229 0.11148527 0.10710764 0.10434155 0.1018641\n",
            " 0.09397474 0.09782321 0.08721587 0.09760673 0.10032471 0.09488589\n",
            " 0.09424722 0.09391944 0.09377027 0.09373491 0.09378447 0.09390469\n",
            " 0.09408506 0.09431444 0.09458055 0.09487062 0.09517264 0.09547583\n",
            " 0.09577135 0.09605234 0.09631399 0.09655339 0.09676926 0.09696168\n",
            " 0.09713189 0.09728195 0.09741452 0.09753254]\n",
            "23 day output [[0.09763917]]\n",
            "24 day input [0.05164161 0.04036079 0.04300661 0.0527721  0.05921828 0.05712568\n",
            " 0.06126278 0.06361996 0.05455201 0.06292243 0.05488876 0.05950692\n",
            " 0.05924233 0.06405292 0.08192423 0.07398677 0.07420325 0.07304871\n",
            " 0.06898376 0.06167168 0.06535177 0.06381239 0.06111846 0.0594107\n",
            " 0.05943476 0.06316296 0.05017438 0.06008419 0.044546   0.04432952\n",
            " 0.04834636 0.05919423 0.06900782 0.06819002 0.06248948 0.06164762\n",
            " 0.07011425 0.06944077 0.06956103 0.07206254 0.06987372 0.06660253\n",
            " 0.06806975 0.06494287 0.05654841 0.05972339 0.06179194 0.06313891\n",
            " 0.06905592 0.07788334 0.07874925 0.07841251 0.07675286 0.08036079\n",
            " 0.08187613 0.07562237 0.0791341  0.0771377  0.07562237 0.09029465\n",
            " 0.09012628 0.09226699 0.08734817 0.0911365  0.09991581 0.09770295\n",
            " 0.10013229 0.11148527 0.10710764 0.10434155 0.1018641  0.09397474\n",
            " 0.09782321 0.08721587 0.09760673 0.10032471 0.09488589 0.09424722\n",
            " 0.09391944 0.09377027 0.09373491 0.09378447 0.09390469 0.09408506\n",
            " 0.09431444 0.09458055 0.09487062 0.09517264 0.09547583 0.09577135\n",
            " 0.09605234 0.09631399 0.09655339 0.09676926 0.09696168 0.09713189\n",
            " 0.09728195 0.09741452 0.09753254 0.09763917]\n",
            "24 day output [[0.09773743]]\n",
            "25 day input [0.04036079 0.04300661 0.0527721  0.05921828 0.05712568 0.06126278\n",
            " 0.06361996 0.05455201 0.06292243 0.05488876 0.05950692 0.05924233\n",
            " 0.06405292 0.08192423 0.07398677 0.07420325 0.07304871 0.06898376\n",
            " 0.06167168 0.06535177 0.06381239 0.06111846 0.0594107  0.05943476\n",
            " 0.06316296 0.05017438 0.06008419 0.044546   0.04432952 0.04834636\n",
            " 0.05919423 0.06900782 0.06819002 0.06248948 0.06164762 0.07011425\n",
            " 0.06944077 0.06956103 0.07206254 0.06987372 0.06660253 0.06806975\n",
            " 0.06494287 0.05654841 0.05972339 0.06179194 0.06313891 0.06905592\n",
            " 0.07788334 0.07874925 0.07841251 0.07675286 0.08036079 0.08187613\n",
            " 0.07562237 0.0791341  0.0771377  0.07562237 0.09029465 0.09012628\n",
            " 0.09226699 0.08734817 0.0911365  0.09991581 0.09770295 0.10013229\n",
            " 0.11148527 0.10710764 0.10434155 0.1018641  0.09397474 0.09782321\n",
            " 0.08721587 0.09760673 0.10032471 0.09488589 0.09424722 0.09391944\n",
            " 0.09377027 0.09373491 0.09378447 0.09390469 0.09408506 0.09431444\n",
            " 0.09458055 0.09487062 0.09517264 0.09547583 0.09577135 0.09605234\n",
            " 0.09631399 0.09655339 0.09676926 0.09696168 0.09713189 0.09728195\n",
            " 0.09741452 0.09753254 0.09763917 0.09773743]\n",
            "25 day output [[0.09783027]]\n",
            "26 day input [0.04300661 0.0527721  0.05921828 0.05712568 0.06126278 0.06361996\n",
            " 0.05455201 0.06292243 0.05488876 0.05950692 0.05924233 0.06405292\n",
            " 0.08192423 0.07398677 0.07420325 0.07304871 0.06898376 0.06167168\n",
            " 0.06535177 0.06381239 0.06111846 0.0594107  0.05943476 0.06316296\n",
            " 0.05017438 0.06008419 0.044546   0.04432952 0.04834636 0.05919423\n",
            " 0.06900782 0.06819002 0.06248948 0.06164762 0.07011425 0.06944077\n",
            " 0.06956103 0.07206254 0.06987372 0.06660253 0.06806975 0.06494287\n",
            " 0.05654841 0.05972339 0.06179194 0.06313891 0.06905592 0.07788334\n",
            " 0.07874925 0.07841251 0.07675286 0.08036079 0.08187613 0.07562237\n",
            " 0.0791341  0.0771377  0.07562237 0.09029465 0.09012628 0.09226699\n",
            " 0.08734817 0.0911365  0.09991581 0.09770295 0.10013229 0.11148527\n",
            " 0.10710764 0.10434155 0.1018641  0.09397474 0.09782321 0.08721587\n",
            " 0.09760673 0.10032471 0.09488589 0.09424722 0.09391944 0.09377027\n",
            " 0.09373491 0.09378447 0.09390469 0.09408506 0.09431444 0.09458055\n",
            " 0.09487062 0.09517264 0.09547583 0.09577135 0.09605234 0.09631399\n",
            " 0.09655339 0.09676926 0.09696168 0.09713189 0.09728195 0.09741452\n",
            " 0.09753254 0.09763917 0.09773743 0.09783027]\n",
            "26 day output [[0.09792029]]\n",
            "27 day input [0.0527721  0.05921828 0.05712568 0.06126278 0.06361996 0.05455201\n",
            " 0.06292243 0.05488876 0.05950692 0.05924233 0.06405292 0.08192423\n",
            " 0.07398677 0.07420325 0.07304871 0.06898376 0.06167168 0.06535177\n",
            " 0.06381239 0.06111846 0.0594107  0.05943476 0.06316296 0.05017438\n",
            " 0.06008419 0.044546   0.04432952 0.04834636 0.05919423 0.06900782\n",
            " 0.06819002 0.06248948 0.06164762 0.07011425 0.06944077 0.06956103\n",
            " 0.07206254 0.06987372 0.06660253 0.06806975 0.06494287 0.05654841\n",
            " 0.05972339 0.06179194 0.06313891 0.06905592 0.07788334 0.07874925\n",
            " 0.07841251 0.07675286 0.08036079 0.08187613 0.07562237 0.0791341\n",
            " 0.0771377  0.07562237 0.09029465 0.09012628 0.09226699 0.08734817\n",
            " 0.0911365  0.09991581 0.09770295 0.10013229 0.11148527 0.10710764\n",
            " 0.10434155 0.1018641  0.09397474 0.09782321 0.08721587 0.09760673\n",
            " 0.10032471 0.09488589 0.09424722 0.09391944 0.09377027 0.09373491\n",
            " 0.09378447 0.09390469 0.09408506 0.09431444 0.09458055 0.09487062\n",
            " 0.09517264 0.09547583 0.09577135 0.09605234 0.09631399 0.09655339\n",
            " 0.09676926 0.09696168 0.09713189 0.09728195 0.09741452 0.09753254\n",
            " 0.09763917 0.09773743 0.09783027 0.09792029]\n",
            "27 day output [[0.09800975]]\n",
            "28 day input [0.05921828 0.05712568 0.06126278 0.06361996 0.05455201 0.06292243\n",
            " 0.05488876 0.05950692 0.05924233 0.06405292 0.08192423 0.07398677\n",
            " 0.07420325 0.07304871 0.06898376 0.06167168 0.06535177 0.06381239\n",
            " 0.06111846 0.0594107  0.05943476 0.06316296 0.05017438 0.06008419\n",
            " 0.044546   0.04432952 0.04834636 0.05919423 0.06900782 0.06819002\n",
            " 0.06248948 0.06164762 0.07011425 0.06944077 0.06956103 0.07206254\n",
            " 0.06987372 0.06660253 0.06806975 0.06494287 0.05654841 0.05972339\n",
            " 0.06179194 0.06313891 0.06905592 0.07788334 0.07874925 0.07841251\n",
            " 0.07675286 0.08036079 0.08187613 0.07562237 0.0791341  0.0771377\n",
            " 0.07562237 0.09029465 0.09012628 0.09226699 0.08734817 0.0911365\n",
            " 0.09991581 0.09770295 0.10013229 0.11148527 0.10710764 0.10434155\n",
            " 0.1018641  0.09397474 0.09782321 0.08721587 0.09760673 0.10032471\n",
            " 0.09488589 0.09424722 0.09391944 0.09377027 0.09373491 0.09378447\n",
            " 0.09390469 0.09408506 0.09431444 0.09458055 0.09487062 0.09517264\n",
            " 0.09547583 0.09577135 0.09605234 0.09631399 0.09655339 0.09676926\n",
            " 0.09696168 0.09713189 0.09728195 0.09741452 0.09753254 0.09763917\n",
            " 0.09773743 0.09783027 0.09792029 0.09800975]\n",
            "28 day output [[0.09810052]]\n",
            "29 day input [0.05712568 0.06126278 0.06361996 0.05455201 0.06292243 0.05488876\n",
            " 0.05950692 0.05924233 0.06405292 0.08192423 0.07398677 0.07420325\n",
            " 0.07304871 0.06898376 0.06167168 0.06535177 0.06381239 0.06111846\n",
            " 0.0594107  0.05943476 0.06316296 0.05017438 0.06008419 0.044546\n",
            " 0.04432952 0.04834636 0.05919423 0.06900782 0.06819002 0.06248948\n",
            " 0.06164762 0.07011425 0.06944077 0.06956103 0.07206254 0.06987372\n",
            " 0.06660253 0.06806975 0.06494287 0.05654841 0.05972339 0.06179194\n",
            " 0.06313891 0.06905592 0.07788334 0.07874925 0.07841251 0.07675286\n",
            " 0.08036079 0.08187613 0.07562237 0.0791341  0.0771377  0.07562237\n",
            " 0.09029465 0.09012628 0.09226699 0.08734817 0.0911365  0.09991581\n",
            " 0.09770295 0.10013229 0.11148527 0.10710764 0.10434155 0.1018641\n",
            " 0.09397474 0.09782321 0.08721587 0.09760673 0.10032471 0.09488589\n",
            " 0.09424722 0.09391944 0.09377027 0.09373491 0.09378447 0.09390469\n",
            " 0.09408506 0.09431444 0.09458055 0.09487062 0.09517264 0.09547583\n",
            " 0.09577135 0.09605234 0.09631399 0.09655339 0.09676926 0.09696168\n",
            " 0.09713189 0.09728195 0.09741452 0.09753254 0.09763917 0.09773743\n",
            " 0.09783027 0.09792029 0.09800975 0.09810052]\n",
            "29 day output [[0.09819407]]\n",
            "[[0.09488589316606522], [0.09424722194671631], [0.09391944110393524], [0.09377026557922363], [0.09373491257429123], [0.09378447383642197], [0.09390468895435333], [0.09408506006002426], [0.09431444108486176], [0.09458055347204208], [0.09487061947584152], [0.09517264366149902], [0.09547583013772964], [0.09577134996652603], [0.09605234116315842], [0.09631399065256119], [0.09655338525772095], [0.09676925837993622], [0.09696167707443237], [0.0971318855881691], [0.09728194773197174], [0.0974145233631134], [0.09753254055976868], [0.09763916581869125], [0.09773743152618408], [0.09783026576042175], [0.09792029112577438], [0.09800975024700165], [0.09810052067041397], [0.09819407016038895]]\n"
          ],
          "name": "stdout"
        }
      ]
    },
    {
      "cell_type": "code",
      "metadata": {
        "id": "BfobEyn7Uqqd"
      },
      "source": [
        "day_new=np.arange(1,101)\r\n",
        "day_pred=np.arange(101,131)"
      ],
      "execution_count": null,
      "outputs": []
    },
    {
      "cell_type": "code",
      "metadata": {
        "colab": {
          "base_uri": "https://localhost:8080/"
        },
        "id": "5f5b7cVrU-I1",
        "outputId": "5e5c3b8b-a4f1-41a8-9f27-b5c4390343b7"
      },
      "source": [
        "len(df1)"
      ],
      "execution_count": null,
      "outputs": [
        {
          "output_type": "execute_result",
          "data": {
            "text/plain": [
              "1258"
            ]
          },
          "metadata": {
            "tags": []
          },
          "execution_count": 26
        }
      ]
    },
    {
      "cell_type": "code",
      "metadata": {
        "colab": {
          "base_uri": "https://localhost:8080/",
          "height": 283
        },
        "id": "_Q0OheAgUY6h",
        "outputId": "ca6432d3-31b7-471d-ce2a-dd40628dfaca"
      },
      "source": [
        "# Visualization\r\n",
        "import matplotlib.pyplot as plt\r\n",
        "\r\n",
        "plt.plot(day_new,scaler.inverse_transform(df1[1158:]))\r\n",
        "plt.plot(day_pred,scaler.inverse_transform(lst_output))"
      ],
      "execution_count": null,
      "outputs": [
        {
          "output_type": "execute_result",
          "data": {
            "text/plain": [
              "[<matplotlib.lines.Line2D at 0x7fe26448b978>]"
            ]
          },
          "metadata": {
            "tags": []
          },
          "execution_count": 28
        },
        {
          "output_type": "display_data",
          "data": {
            "image/png": "[encoded data removed]",
            "text/plain": [
              "<Figure size 432x288 with 1 Axes>"
            ]
          },
          "metadata": {
            "tags": [],
            "needs_background": "light"
          }
        }
      ]
    },
    {
      "cell_type": "code",
      "metadata": {
        "colab": {
          "base_uri": "https://localhost:8080/",
          "height": 283
        },
        "id": "QXzrbvieUinB",
        "outputId": "28f8cbe5-b7a1-4489-a138-1c546667b992"
      },
      "source": [
        "df3=df1.tolist()\r\n",
        "df3.extend(lst_output)\r\n",
        "plt.plot(df3[1200:])"
      ],
      "execution_count": null,
      "outputs": [
        {
          "output_type": "execute_result",
          "data": {
            "text/plain": [
              "[<matplotlib.lines.Line2D at 0x7fe2643b5048>]"
            ]
          },
          "metadata": {
            "tags": []
          },
          "execution_count": 29
        },
        {
          "output_type": "display_data",
          "data": {
            "image/png": "[encoded data removed]",
            "text/plain": [
              "<Figure size 432x288 with 1 Axes>"
            ]
          },
          "metadata": {
            "tags": [],
            "needs_background": "light"
          }
        }
      ]
    },
    {
      "cell_type": "code",
      "metadata": {
        "id": "Gt6qMJXnUiub"
      },
      "source": [
        "df3=scaler.inverse_transform(df3).tolist()"
      ],
      "execution_count": null,
      "outputs": []
    },
    {
      "cell_type": "code",
      "metadata": {
        "colab": {
          "base_uri": "https://localhost:8080/",
          "height": 283
        },
        "id": "7qJJU7X7Uiwa",
        "outputId": "15f915f8-7bbf-48a2-e636-748f09ef432f"
      },
      "source": [
        "plt.plot(df3)"
      ],
      "execution_count": null,
      "outputs": [
        {
          "output_type": "execute_result",
          "data": {
            "text/plain": [
              "[<matplotlib.lines.Line2D at 0x7fe26421e6d8>]"
            ]
          },
          "metadata": {
            "tags": []
          },
          "execution_count": 31
        },
        {
          "output_type": "display_data",
          "data": {
            "image/png": "[encoded data removed]",
            "text/plain": [
              "<Figure size 432x288 with 1 Axes>"
            ]
          },
          "metadata": {
            "tags": [],
            "needs_background": "light"
          }
        }
      ]
    }
  ]
}