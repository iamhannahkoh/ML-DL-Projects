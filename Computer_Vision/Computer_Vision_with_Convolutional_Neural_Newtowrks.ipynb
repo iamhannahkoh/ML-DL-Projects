{
  "nbformat": 4,
  "nbformat_minor": 0,
  "metadata": {
    "colab": {
      "name": "Computer Vision with Convolutional Neural Newtowrks.ipynb",
      "provenance": [],
      "authorship_tag": "ABX9TyMqEEB3l6EWhOxOTvvv0u8l",
      "include_colab_link": true
    },
    "kernelspec": {
      "name": "python3",
      "display_name": "Python 3"
    },
    "accelerator": "GPU"
  },
  "cells": [
    {
      "cell_type": "markdown",
      "metadata": {
        "id": "view-in-github",
        "colab_type": "text"
      },
      "source": [
        "<a href=\"https://colab.research.google.com/github/iamhannahkoh/DeepLearning/blob/main/Computer_Vision_with_Convolutional_Neural_Newtowrks.ipynb\" target=\"_parent\"><img src=\"https://colab.research.google.com/assets/colab-badge.svg\" alt=\"Open In Colab\"/></a>"
      ]
    },
    {
      "cell_type": "markdown",
      "metadata": {
        "id": "U4B7mw0-fzbn"
      },
      "source": [
        "## Enhancing Computer Vision Accuracy using Convolutions"
      ]
    },
    {
      "cell_type": "markdown",
      "metadata": {
        "id": "0zI9PBsYgjGG"
      },
      "source": [
        "**About the Data**\r\n",
        "\r\n",
        "This exercise uses the TensorFlow Fashion MNIST dataset which contains 70,000 grayscale images in 10 categories. In this exercies, 60,000 images are used to train the network and 10,000 imaes to evaluate how accurately the network learnd to classify images. "
      ]
    },
    {
      "cell_type": "code",
      "metadata": {
        "id": "R1TYfw1Ce2HH"
      },
      "source": [
        "import tensorflow as tf\r\n",
        "import matplotlib.pyplot as plt\r\n",
        "import numpy as np"
      ],
      "execution_count": null,
      "outputs": []
    },
    {
      "cell_type": "markdown",
      "metadata": {
        "id": "wOcYhcrMiQcn"
      },
      "source": [
        "### 1. Set Up and Explore the Data"
      ]
    },
    {
      "cell_type": "code",
      "metadata": {
        "id": "NaQOSzPUf-YV"
      },
      "source": [
        "mnist = tf.keras.datasets.fashion_mnist\r\n",
        "(training_images, training_labels), (test_images, test_labels) = mnist.load_data()"
      ],
      "execution_count": null,
      "outputs": []
    },
    {
      "cell_type": "code",
      "metadata": {
        "colab": {
          "base_uri": "https://localhost:8080/",
          "height": 758
        },
        "id": "Rb9EqkCziA54",
        "outputId": "3a98d3e8-025d-4eb7-c074-9bf39157b3b2"
      },
      "source": [
        "# You can experiment with different indicies in the array to see the training images and labels.\r\n",
        "# For example, the first image is a boot (label 9).\r\n",
        "np.set_printoptions(linewidth=200)\r\n",
        "plt.imshow(training_images[0])\r\n",
        "print(training_labels[0])\r\n",
        "print(training_images[0])"
      ],
      "execution_count": null,
      "outputs": [
        {
          "output_type": "stream",
          "text": [
            "9\n",
            "[[  0   0   0   0   0   0   0   0   0   0   0   0   0   0   0   0   0   0   0   0   0   0   0   0   0   0   0   0]\n",
            " [  0   0   0   0   0   0   0   0   0   0   0   0   0   0   0   0   0   0   0   0   0   0   0   0   0   0   0   0]\n",
            " [  0   0   0   0   0   0   0   0   0   0   0   0   0   0   0   0   0   0   0   0   0   0   0   0   0   0   0   0]\n",
            " [  0   0   0   0   0   0   0   0   0   0   0   0   1   0   0  13  73   0   0   1   4   0   0   0   0   1   1   0]\n",
            " [  0   0   0   0   0   0   0   0   0   0   0   0   3   0  36 136 127  62  54   0   0   0   1   3   4   0   0   3]\n",
            " [  0   0   0   0   0   0   0   0   0   0   0   0   6   0 102 204 176 134 144 123  23   0   0   0   0  12  10   0]\n",
            " [  0   0   0   0   0   0   0   0   0   0   0   0   0   0 155 236 207 178 107 156 161 109  64  23  77 130  72  15]\n",
            " [  0   0   0   0   0   0   0   0   0   0   0   1   0  69 207 223 218 216 216 163 127 121 122 146 141  88 172  66]\n",
            " [  0   0   0   0   0   0   0   0   0   1   1   1   0 200 232 232 233 229 223 223 215 213 164 127 123 196 229   0]\n",
            " [  0   0   0   0   0   0   0   0   0   0   0   0   0 183 225 216 223 228 235 227 224 222 224 221 223 245 173   0]\n",
            " [  0   0   0   0   0   0   0   0   0   0   0   0   0 193 228 218 213 198 180 212 210 211 213 223 220 243 202   0]\n",
            " [  0   0   0   0   0   0   0   0   0   1   3   0  12 219 220 212 218 192 169 227 208 218 224 212 226 197 209  52]\n",
            " [  0   0   0   0   0   0   0   0   0   0   6   0  99 244 222 220 218 203 198 221 215 213 222 220 245 119 167  56]\n",
            " [  0   0   0   0   0   0   0   0   0   4   0   0  55 236 228 230 228 240 232 213 218 223 234 217 217 209  92   0]\n",
            " [  0   0   1   4   6   7   2   0   0   0   0   0 237 226 217 223 222 219 222 221 216 223 229 215 218 255  77   0]\n",
            " [  0   3   0   0   0   0   0   0   0  62 145 204 228 207 213 221 218 208 211 218 224 223 219 215 224 244 159   0]\n",
            " [  0   0   0   0  18  44  82 107 189 228 220 222 217 226 200 205 211 230 224 234 176 188 250 248 233 238 215   0]\n",
            " [  0  57 187 208 224 221 224 208 204 214 208 209 200 159 245 193 206 223 255 255 221 234 221 211 220 232 246   0]\n",
            " [  3 202 228 224 221 211 211 214 205 205 205 220 240  80 150 255 229 221 188 154 191 210 204 209 222 228 225   0]\n",
            " [ 98 233 198 210 222 229 229 234 249 220 194 215 217 241  65  73 106 117 168 219 221 215 217 223 223 224 229  29]\n",
            " [ 75 204 212 204 193 205 211 225 216 185 197 206 198 213 240 195 227 245 239 223 218 212 209 222 220 221 230  67]\n",
            " [ 48 203 183 194 213 197 185 190 194 192 202 214 219 221 220 236 225 216 199 206 186 181 177 172 181 205 206 115]\n",
            " [  0 122 219 193 179 171 183 196 204 210 213 207 211 210 200 196 194 191 195 191 198 192 176 156 167 177 210  92]\n",
            " [  0   0  74 189 212 191 175 172 175 181 185 188 189 188 193 198 204 209 210 210 211 188 188 194 192 216 170   0]\n",
            " [  2   0   0   0  66 200 222 237 239 242 246 243 244 221 220 193 191 179 182 182 181 176 166 168  99  58   0   0]\n",
            " [  0   0   0   0   0   0   0  40  61  44  72  41  35   0   0   0   0   0   0   0   0   0   0   0   0   0   0   0]\n",
            " [  0   0   0   0   0   0   0   0   0   0   0   0   0   0   0   0   0   0   0   0   0   0   0   0   0   0   0   0]\n",
            " [  0   0   0   0   0   0   0   0   0   0   0   0   0   0   0   0   0   0   0   0   0   0   0   0   0   0   0   0]]\n"
          ],
          "name": "stdout"
        },
        {
          "output_type": "display_data",
          "data": {
            "image/png": "[encoded data removed]",
            "text/plain": [
              "<Figure size 432x288 with 1 Axes>"
            ]
          },
          "metadata": {
            "tags": [],
            "needs_background": "light"
          }
        }
      ]
    },
    {
      "cell_type": "code",
      "metadata": {
        "id": "0h7Xth4tjRlB"
      },
      "source": [
        "# Normalization\r\n",
        "training_images = training_images.reshape(60000, 28, 28, 1)\r\n",
        "training_images = training_images/255.0\r\n",
        "test_images = test_images.reshape(10000, 28, 28, 1)\r\n",
        "test_images =test_images/255.0"
      ],
      "execution_count": null,
      "outputs": []
    },
    {
      "cell_type": "markdown",
      "metadata": {
        "id": "9xC6HhXSlQvS"
      },
      "source": [
        "### 2. Using Callbacks to Control Training"
      ]
    },
    {
      "cell_type": "code",
      "metadata": {
        "id": "XLHBt0QpldtS"
      },
      "source": [
        "class myCallback(tf.keras.callbacks.Callback):\r\n",
        "  def on_epoch_end(self, epoch, logs={}):\r\n",
        "    if(logs.get('accuracy')>0.99):\r\n",
        "      print('\\nReached 99% accuracy so cancelling training.')\r\n",
        "      self.model.stop_training = True"
      ],
      "execution_count": null,
      "outputs": []
    },
    {
      "cell_type": "code",
      "metadata": {
        "id": "TSe2dt1Al917"
      },
      "source": [
        "callbacks = myCallback()"
      ],
      "execution_count": null,
      "outputs": []
    },
    {
      "cell_type": "markdown",
      "metadata": {
        "id": "UO0ySdzBmUEa"
      },
      "source": [
        "### 3. Modeling"
      ]
    },
    {
      "cell_type": "code",
      "metadata": {
        "colab": {
          "base_uri": "https://localhost:8080/"
        },
        "id": "lWiURhXQmAIe",
        "outputId": "2ded6b29-ec22-40b7-ae4c-911d5ba26f98"
      },
      "source": [
        "# Build the model\r\n",
        "model = tf.keras.models.Sequential([tf.keras.layers.Conv2D(32, (3,3), activation='relu', input_shape=(28, 28, 1)),\r\n",
        "                                    tf.keras.layers.MaxPooling2D(2,2),\r\n",
        "                                    tf.keras.layers.Conv2D(64, (3,3), activation='relu'),\r\n",
        "                                    tf.keras.layers.MaxPooling2D(2,2),\r\n",
        "                                    tf.keras.layers.Flatten(),\r\n",
        "                                    tf.keras.layers.Dense(128, activation='relu'),\r\n",
        "                                    tf.keras.layers.Dense(10, activation='softmax')])\r\n",
        "\r\n",
        "# Compile\r\n",
        "model.compile(optimizer = 'adam', loss='sparse_categorical_crossentropy', metrics=['accuracy'])\r\n",
        "model.summary()\r\n",
        "\r\n",
        "# Train the model\r\n",
        "model.fit(training_images, training_labels, epochs=30, callbacks = [callbacks])\r\n",
        "\r\n",
        "#Evaluation\r\n",
        "test_loss = model.evaluate(test_images, test_labels)"
      ],
      "execution_count": null,
      "outputs": [
        {
          "output_type": "stream",
          "text": [
            "Model: \"sequential_4\"\n",
            "_________________________________________________________________\n",
            "Layer (type)                 Output Shape              Param #   \n",
            "=================================================================\n",
            "conv2d_9 (Conv2D)            (None, 26, 26, 32)        320       \n",
            "_________________________________________________________________\n",
            "max_pooling2d_9 (MaxPooling2 (None, 13, 13, 32)        0         \n",
            "_________________________________________________________________\n",
            "conv2d_10 (Conv2D)           (None, 11, 11, 64)        18496     \n",
            "_________________________________________________________________\n",
            "max_pooling2d_10 (MaxPooling (None, 5, 5, 64)          0         \n",
            "_________________________________________________________________\n",
            "flatten_4 (Flatten)          (None, 1600)              0         \n",
            "_________________________________________________________________\n",
            "dense_8 (Dense)              (None, 128)               204928    \n",
            "_________________________________________________________________\n",
            "dense_9 (Dense)              (None, 10)                1290      \n",
            "=================================================================\n",
            "Total params: 225,034\n",
            "Trainable params: 225,034\n",
            "Non-trainable params: 0\n",
            "_________________________________________________________________\n",
            "Epoch 1/30\n",
            "1875/1875 [==============================] - 4s 2ms/step - loss: 0.6144 - accuracy: 0.7805\n",
            "Epoch 2/30\n",
            "1875/1875 [==============================] - 4s 2ms/step - loss: 0.3057 - accuracy: 0.8889\n",
            "Epoch 3/30\n",
            "1875/1875 [==============================] - 4s 2ms/step - loss: 0.2523 - accuracy: 0.9054\n",
            "Epoch 4/30\n",
            "1875/1875 [==============================] - 4s 2ms/step - loss: 0.2157 - accuracy: 0.9189\n",
            "Epoch 5/30\n",
            "1875/1875 [==============================] - 4s 2ms/step - loss: 0.1923 - accuracy: 0.9284\n",
            "Epoch 6/30\n",
            "1875/1875 [==============================] - 4s 2ms/step - loss: 0.1714 - accuracy: 0.9366\n",
            "Epoch 7/30\n",
            "1875/1875 [==============================] - 4s 2ms/step - loss: 0.1485 - accuracy: 0.9442\n",
            "Epoch 8/30\n",
            "1875/1875 [==============================] - 4s 2ms/step - loss: 0.1265 - accuracy: 0.9525\n",
            "Epoch 9/30\n",
            "1875/1875 [==============================] - 4s 2ms/step - loss: 0.1112 - accuracy: 0.9585\n",
            "Epoch 10/30\n",
            "1875/1875 [==============================] - 4s 2ms/step - loss: 0.0952 - accuracy: 0.9639\n",
            "Epoch 11/30\n",
            "1875/1875 [==============================] - 4s 2ms/step - loss: 0.0883 - accuracy: 0.9665\n",
            "Epoch 12/30\n",
            "1875/1875 [==============================] - 4s 2ms/step - loss: 0.0755 - accuracy: 0.9718\n",
            "Epoch 13/30\n",
            "1875/1875 [==============================] - 4s 2ms/step - loss: 0.0650 - accuracy: 0.9762\n",
            "Epoch 14/30\n",
            "1875/1875 [==============================] - 4s 2ms/step - loss: 0.0573 - accuracy: 0.9785\n",
            "Epoch 15/30\n",
            "1875/1875 [==============================] - 4s 2ms/step - loss: 0.0488 - accuracy: 0.9825\n",
            "Epoch 16/30\n",
            "1875/1875 [==============================] - 4s 2ms/step - loss: 0.0474 - accuracy: 0.9825\n",
            "Epoch 17/30\n",
            "1875/1875 [==============================] - 4s 2ms/step - loss: 0.0426 - accuracy: 0.9835\n",
            "Epoch 18/30\n",
            "1875/1875 [==============================] - 4s 2ms/step - loss: 0.0387 - accuracy: 0.9861\n",
            "Epoch 19/30\n",
            "1875/1875 [==============================] - 4s 2ms/step - loss: 0.0376 - accuracy: 0.9861\n",
            "Epoch 20/30\n",
            "1875/1875 [==============================] - 4s 2ms/step - loss: 0.0308 - accuracy: 0.9893\n",
            "Epoch 21/30\n",
            "1875/1875 [==============================] - 4s 2ms/step - loss: 0.0293 - accuracy: 0.9893\n",
            "Epoch 22/30\n",
            "1875/1875 [==============================] - 4s 2ms/step - loss: 0.0276 - accuracy: 0.9896\n",
            "Epoch 23/30\n",
            "1875/1875 [==============================] - 4s 2ms/step - loss: 0.0265 - accuracy: 0.9910\n",
            "Epoch 24/30\n",
            "1875/1875 [==============================] - 4s 2ms/step - loss: 0.0300 - accuracy: 0.9897\n",
            "Epoch 25/30\n",
            "1875/1875 [==============================] - 4s 2ms/step - loss: 0.0282 - accuracy: 0.9897\n",
            "Epoch 26/30\n",
            "1875/1875 [==============================] - 4s 2ms/step - loss: 0.0233 - accuracy: 0.9914\n",
            "\n",
            "Reached 99% accuracy so cancelling training.\n",
            "313/313 [==============================] - 1s 2ms/step - loss: 0.6419 - accuracy: 0.9086\n"
          ],
          "name": "stdout"
        }
      ]
    },
    {
      "cell_type": "markdown",
      "metadata": {
        "id": "mRUSSfw1olZ4"
      },
      "source": [
        "### 4. Visualizing the Convolutions and Pooling"
      ]
    },
    {
      "cell_type": "markdown",
      "metadata": {
        "id": "asYlElx9oxIm"
      },
      "source": [
        "The first line of code shows the first 100 labels in the test set and you can see that the ones at index 0, 23, and 28 are all the same value (9). In fact, they are all shoes. Let's take a look at the result of running the convolution on each and you'll begin to see commmon features between them emerge. "
      ]
    },
    {
      "cell_type": "code",
      "metadata": {
        "colab": {
          "base_uri": "https://localhost:8080/"
        },
        "id": "y_9APCwrouf1",
        "outputId": "25f6955c-9cf8-4e07-cd7a-3ddd6460366a"
      },
      "source": [
        "print(test_labels[:100])"
      ],
      "execution_count": null,
      "outputs": [
        {
          "output_type": "stream",
          "text": [
            "[9 2 1 1 6 1 4 6 5 7 4 5 7 3 4 1 2 4 8 0 2 5 7 9 1 4 6 0 9 3 8 8 3 3 8 0 7 5 7 9 6 1 3 7 6 7 2 1 2 2 4 4 5 8 2 2 8 4 8 0 7 7 8 5 1 1 2 3 9 8 7 0 2 6 2 3 1 2 8 4 1 8 5 9 5 0 3 2 0 6 5 3 6 7 1 8 0 1 4\n",
            " 2]\n"
          ],
          "name": "stdout"
        }
      ]
    },
    {
      "cell_type": "code",
      "metadata": {
        "colab": {
          "base_uri": "https://localhost:8080/",
          "height": 268
        },
        "id": "M1Gb5wtxpVvu",
        "outputId": "8eef2fed-cea4-4692-c20b-776dcf9e09d2"
      },
      "source": [
        "import matplotlib.pyplot as plt\r\n",
        "f, axarr = plt.subplots(3,4)\r\n",
        "\r\n",
        "FIRST_IMAGE=0\r\n",
        "SECOND_IMAGE=23\r\n",
        "THIRD_IMAGE=28\r\n",
        "CONVOLUTION_NUMBER = 1\r\n",
        "\r\n",
        "from tensorflow.keras import models\r\n",
        "layer_outputs = [layer.output for layer in model.layers]\r\n",
        "activation_model = tf.keras.models.Model(inputs = model.input, outputs = layer_outputs)\r\n",
        "for x in range(0,4):\r\n",
        "  f1 = activation_model.predict(test_images[FIRST_IMAGE].reshape(1, 28, 28, 1))[x]\r\n",
        "  axarr[0,x].imshow(f1[0, : , :, CONVOLUTION_NUMBER], cmap='inferno')\r\n",
        "  axarr[0,x].grid(False)\r\n",
        "  f2 = activation_model.predict(test_images[SECOND_IMAGE].reshape(1, 28, 28, 1))[x]\r\n",
        "  axarr[1,x].imshow(f2[0, : , :, CONVOLUTION_NUMBER], cmap='inferno')\r\n",
        "  axarr[1,x].grid(False)\r\n",
        "  f3 = activation_model.predict(test_images[THIRD_IMAGE].reshape(1, 28, 28, 1))[x]\r\n",
        "  axarr[2,x].imshow(f3[0, : , :, CONVOLUTION_NUMBER], cmap='inferno')\r\n",
        "  axarr[2,x].grid(False)"
      ],
      "execution_count": null,
      "outputs": [
        {
          "output_type": "display_data",
          "data": {
            "image/png": "[encoded data removed]",
            "text/plain": [
              "<Figure size 432x288 with 12 Axes>"
            ]
          },
          "metadata": {
            "tags": [],
            "needs_background": "light"
          }
        }
      ]
    },
    {
      "cell_type": "markdown",
      "metadata": {
        "id": "wKVE2_PFRIfu"
      },
      "source": [
        "Data source: DeepLearning.AI TensorFlow Developer Professional Certificate Specialization on Coursera"
      ]
    },
    {
      "cell_type": "code",
      "metadata": {
        "id": "Np1D9QHGRQIS"
      },
      "source": [
        ""
      ],
      "execution_count": null,
      "outputs": []
    }
  ]
}