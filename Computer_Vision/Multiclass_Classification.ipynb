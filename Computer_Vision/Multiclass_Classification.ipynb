{
  "nbformat": 4,
  "nbformat_minor": 0,
  "metadata": {
    "colab": {
      "name": "Multiclass Classification.ipynb",
      "provenance": [],
      "authorship_tag": "ABX9TyN5E/b+BfF9K4EMjxriszMJ",
      "include_colab_link": true
    },
    "kernelspec": {
      "name": "python3",
      "display_name": "Python 3"
    }
  },
  "cells": [
    {
      "cell_type": "markdown",
      "metadata": {
        "id": "view-in-github",
        "colab_type": "text"
      },
      "source": [
        "<a href=\"https://colab.research.google.com/github/iamhannahkoh/DeepLearning/blob/main/Multiclass_Classification.ipynb\" target=\"_parent\"><img src=\"https://colab.research.google.com/assets/colab-badge.svg\" alt=\"Open In Colab\"/></a>"
      ]
    },
    {
      "cell_type": "markdown",
      "metadata": {
        "id": "V6CuIFH5NmFw"
      },
      "source": [
        "## Multiclass Classification"
      ]
    },
    {
      "cell_type": "markdown",
      "metadata": {
        "id": "91vjiswpNyqu"
      },
      "source": [
        "**About the Data**\r\n",
        "\r\n",
        "We will use images of hands playing rock, paper, scissor game. This dataset was prepared by Laurence Moroney as a part of his Deep Learning course \"Convolutional Neural Networks in TensorFlow\". You can find more information on this dataset here: https://www.tensorflow.org/datasets/catalog/rock_paper_scissors."
      ]
    },
    {
      "cell_type": "markdown",
      "metadata": {
        "id": "av2-hZWVOl3u"
      },
      "source": [
        "### 1. Set up data"
      ]
    },
    {
      "cell_type": "code",
      "metadata": {
        "colab": {
          "base_uri": "https://localhost:8080/"
        },
        "id": "mmLB4kwZNgoN",
        "outputId": "a306a3e2-8501-468d-cace-8cc6631197c9"
      },
      "source": [
        "!wget --no-check-certificate \\\r\n",
        "    https://storage.googleapis.com/laurencemoroney-blog.appspot.com/rps.zip \\\r\n",
        "    -O /tmp/rps.zip\r\n",
        "  \r\n",
        "!wget --no-check-certificate \\\r\n",
        "    https://storage.googleapis.com/laurencemoroney-blog.appspot.com/rps-test-set.zip \\\r\n",
        "    -O /tmp/rps-test-set.zip"
      ],
      "execution_count": null,
      "outputs": [
        {
          "output_type": "stream",
          "text": [
            "--2021-01-07 09:43:08--  https://storage.googleapis.com/laurencemoroney-blog.appspot.com/rps.zip\n",
            "Resolving storage.googleapis.com (storage.googleapis.com)... 74.125.137.128, 142.250.101.128, 2607:f8b0:4023:c06::80, ...\n",
            "Connecting to storage.googleapis.com (storage.googleapis.com)|74.125.137.128|:443... connected.\n",
            "HTTP request sent, awaiting response... 200 OK\n",
            "Length: 200682221 (191M) [application/zip]\n",
            "Saving to: ‘/tmp/rps.zip’\n",
            "\n",
            "/tmp/rps.zip        100%[===================>] 191.38M   115MB/s    in 1.7s    \n",
            "\n",
            "2021-01-07 09:43:11 (115 MB/s) - ‘/tmp/rps.zip’ saved [200682221/200682221]\n",
            "\n",
            "--2021-01-07 09:43:11--  https://storage.googleapis.com/laurencemoroney-blog.appspot.com/rps-test-set.zip\n",
            "Resolving storage.googleapis.com (storage.googleapis.com)... 74.125.137.128, 142.250.101.128, 2607:f8b0:4023:c03::80, ...\n",
            "Connecting to storage.googleapis.com (storage.googleapis.com)|74.125.137.128|:443... connected.\n",
            "HTTP request sent, awaiting response... 200 OK\n",
            "Length: 29516758 (28M) [application/zip]\n",
            "Saving to: ‘/tmp/rps-test-set.zip’\n",
            "\n",
            "/tmp/rps-test-set.z 100%[===================>]  28.15M  67.9MB/s    in 0.4s    \n",
            "\n",
            "2021-01-07 09:43:12 (67.9 MB/s) - ‘/tmp/rps-test-set.zip’ saved [29516758/29516758]\n",
            "\n"
          ],
          "name": "stdout"
        }
      ]
    },
    {
      "cell_type": "code",
      "metadata": {
        "id": "RXnuXP-ENpMr"
      },
      "source": [
        "import os \r\n",
        "import zipfile\r\n",
        "\r\n",
        "local_zip = '/tmp/rps.zip'\r\n",
        "zip_ref = zipfile.ZipFile(local_zip, 'r')\r\n",
        "zip_ref.extractall('/tmp/')\r\n",
        "zip_ref.close()\r\n",
        "\r\n",
        "local_zip = '/tmp/rps-test-set.zip'\r\n",
        "zip_ref = zipfile.ZipFile(local_zip, 'r')\r\n",
        "zip_ref.extractall('/tmp/')\r\n",
        "zip_ref.close()"
      ],
      "execution_count": null,
      "outputs": []
    },
    {
      "cell_type": "code",
      "metadata": {
        "colab": {
          "base_uri": "https://localhost:8080/"
        },
        "id": "BGlDOgrqOrLV",
        "outputId": "717ece57-1682-4a76-9d34-49b467b650d0"
      },
      "source": [
        "rock_dir = os.path.join('/tmp/rps/rock')\r\n",
        "paper_dir = os.path.join('/tmp/rps/paper')\r\n",
        "scissors_dir =os.path.join('/tmp/rps/scissors')\r\n",
        "\r\n",
        "print('total training rock images:', len(os.listdir(rock_dir)))\r\n",
        "print('total training paper images:', len(os.listdir(paper_dir)))\r\n",
        "print('total training scissors images:', len(os.listdir(scissors_dir)))"
      ],
      "execution_count": null,
      "outputs": [
        {
          "output_type": "stream",
          "text": [
            "total training rock images: 840\n",
            "total training paper images: 840\n",
            "total training scissors images: 840\n"
          ],
          "name": "stdout"
        }
      ]
    },
    {
      "cell_type": "markdown",
      "metadata": {
        "id": "KSj3IqkTOxRU"
      },
      "source": [
        "### 2. Image Generator"
      ]
    },
    {
      "cell_type": "code",
      "metadata": {
        "id": "ozSlZDmBOrNr"
      },
      "source": [
        "import tensorflow as tf\r\n",
        "import keras_preprocessing\r\n",
        "from keras_preprocessing import image\r\n",
        "from keras_preprocessing.image import ImageDataGenerator"
      ],
      "execution_count": null,
      "outputs": []
    },
    {
      "cell_type": "code",
      "metadata": {
        "colab": {
          "base_uri": "https://localhost:8080/"
        },
        "id": "PcTmwsJdOrQI",
        "outputId": "b073fa1e-0aa9-40be-9d61-f2e69aa79ea8"
      },
      "source": [
        "train_dir = '/tmp/rps/'\r\n",
        "training_datagen = ImageDataGenerator(rescale = 1./255.,\r\n",
        "                                      rotation_range =40,\r\n",
        "                                      width_shift_range =0.2,\r\n",
        "                                      height_shift_range = 0.2,\r\n",
        "                                      shear_range =0.2,\r\n",
        "                                      zoom_range =0.2,\r\n",
        "                                      horizontal_flip = True,\r\n",
        "                                      fill_mode = 'nearest')\r\n",
        "\r\n",
        "validation_dir = '/tmp/rps-test-set/'\r\n",
        "validation_datagen = ImageDataGenerator(rescale = 1./255.)\r\n",
        "\r\n",
        "train_generator = training_datagen.flow_from_directory(train_dir,\r\n",
        "                                                       target_size = (150,150),\r\n",
        "                                                       class_mode = 'categorical',\r\n",
        "                                                       batch_size =126)\r\n",
        "\r\n",
        "\r\n",
        "validation_generator = validation_datagen.flow_from_directory(validation_dir,\r\n",
        "                                                              target_size = (150, 150),\r\n",
        "                                                              class_mode = 'categorical',\r\n",
        "                                                              batch_size = 126)"
      ],
      "execution_count": null,
      "outputs": [
        {
          "output_type": "stream",
          "text": [
            "Found 2520 images belonging to 3 classes.\n",
            "Found 372 images belonging to 3 classes.\n"
          ],
          "name": "stdout"
        }
      ]
    },
    {
      "cell_type": "markdown",
      "metadata": {
        "id": "M8op9DJZO6n4"
      },
      "source": [
        "### 3. Modeling"
      ]
    },
    {
      "cell_type": "code",
      "metadata": {
        "colab": {
          "base_uri": "https://localhost:8080/"
        },
        "id": "LivP1i4YOrSn",
        "outputId": "7e424c95-e2c7-402f-a455-0b644c312f1d"
      },
      "source": [
        "model =  tf.keras.models.Sequential([tf.keras.layers.Conv2D(64, (3,3), activation='relu', input_shape=(150, 150, 3)),\r\n",
        "                                     tf.keras.layers.MaxPooling2D(2,2),\r\n",
        "                                     tf.keras.layers.Conv2D(64, (3,3), activation= 'relu'),\r\n",
        "                                     tf.keras.layers.MaxPooling2D(2,2),\r\n",
        "                                     tf.keras.layers.Conv2D(128, (3,3), activation='relu'),\r\n",
        "                                     tf.keras.layers.MaxPooling2D(2,2),\r\n",
        "                                     tf.keras.layers.Conv2D(128, (3,3), activation='relu'),\r\n",
        "                                     tf.keras.layers.MaxPooling2D(2,2),\r\n",
        "                                     tf.keras.layers.Flatten(),\r\n",
        "                                     tf.keras.layers.Dropout(0.5),\r\n",
        "                                     tf.keras.layers.Dense(512, activation='relu'),\r\n",
        "                                     tf.keras.layers.Dense(3, activation='softmax')])\r\n",
        "\r\n",
        "model.compile(loss = 'categorical_crossentropy', optimizer='rmsprop', metrics=['accuracy'])\r\n",
        "history = model.fit(train_generator, epochs=25, steps_per_epoch=20, validation_data = validation_generator, verbose = 1, validation_steps=3)"
      ],
      "execution_count": null,
      "outputs": [
        {
          "output_type": "stream",
          "text": [
            "Epoch 1/25\n",
            "20/20 [==============================] - 152s 7s/step - loss: 2.4359 - accuracy: 0.3262 - val_loss: 1.0888 - val_accuracy: 0.3387\n",
            "Epoch 2/25\n",
            "20/20 [==============================] - 149s 7s/step - loss: 1.0885 - accuracy: 0.3987 - val_loss: 1.0896 - val_accuracy: 0.3333\n",
            "Epoch 3/25\n",
            "20/20 [==============================] - 148s 7s/step - loss: 1.1309 - accuracy: 0.4356 - val_loss: 0.9313 - val_accuracy: 0.6801\n",
            "Epoch 4/25\n",
            "20/20 [==============================] - 148s 7s/step - loss: 0.9920 - accuracy: 0.4982 - val_loss: 0.9153 - val_accuracy: 0.6425\n",
            "Epoch 5/25\n",
            "20/20 [==============================] - 148s 7s/step - loss: 0.9069 - accuracy: 0.5619 - val_loss: 0.7113 - val_accuracy: 0.7608\n",
            "Epoch 6/25\n",
            "20/20 [==============================] - 148s 7s/step - loss: 0.8195 - accuracy: 0.6341 - val_loss: 1.6300 - val_accuracy: 0.3468\n",
            "Epoch 7/25\n",
            "20/20 [==============================] - 149s 7s/step - loss: 0.9422 - accuracy: 0.6274 - val_loss: 0.6008 - val_accuracy: 0.6371\n",
            "Epoch 8/25\n",
            "20/20 [==============================] - 148s 7s/step - loss: 0.7287 - accuracy: 0.6868 - val_loss: 0.2407 - val_accuracy: 0.9516\n",
            "Epoch 9/25\n",
            "20/20 [==============================] - 148s 7s/step - loss: 0.5925 - accuracy: 0.7547 - val_loss: 0.1968 - val_accuracy: 1.0000\n",
            "Epoch 10/25\n",
            "20/20 [==============================] - 149s 7s/step - loss: 0.4099 - accuracy: 0.8299 - val_loss: 0.1361 - val_accuracy: 0.9839\n",
            "Epoch 11/25\n",
            "20/20 [==============================] - 148s 7s/step - loss: 0.3131 - accuracy: 0.8791 - val_loss: 0.0566 - val_accuracy: 1.0000\n",
            "Epoch 12/25\n",
            "20/20 [==============================] - 149s 7s/step - loss: 0.3579 - accuracy: 0.8589 - val_loss: 0.0745 - val_accuracy: 0.9812\n",
            "Epoch 13/25\n",
            "20/20 [==============================] - 151s 8s/step - loss: 0.2466 - accuracy: 0.9101 - val_loss: 0.2929 - val_accuracy: 0.7930\n",
            "Epoch 14/25\n",
            "20/20 [==============================] - 149s 7s/step - loss: 0.2916 - accuracy: 0.8885 - val_loss: 0.0807 - val_accuracy: 0.9785\n",
            "Epoch 15/25\n",
            "20/20 [==============================] - 151s 8s/step - loss: 0.2354 - accuracy: 0.9050 - val_loss: 0.0782 - val_accuracy: 0.9812\n",
            "Epoch 16/25\n",
            "20/20 [==============================] - 150s 7s/step - loss: 0.2106 - accuracy: 0.9083 - val_loss: 0.1009 - val_accuracy: 0.9839\n",
            "Epoch 17/25\n",
            "20/20 [==============================] - 151s 7s/step - loss: 0.1681 - accuracy: 0.9376 - val_loss: 0.0526 - val_accuracy: 0.9812\n",
            "Epoch 18/25\n",
            "20/20 [==============================] - 148s 7s/step - loss: 0.2170 - accuracy: 0.9184 - val_loss: 0.0250 - val_accuracy: 0.9973\n",
            "Epoch 19/25\n",
            "20/20 [==============================] - 149s 7s/step - loss: 0.1277 - accuracy: 0.9608 - val_loss: 0.0367 - val_accuracy: 0.9839\n",
            "Epoch 20/25\n",
            "20/20 [==============================] - 146s 7s/step - loss: 0.1497 - accuracy: 0.9490 - val_loss: 0.0610 - val_accuracy: 0.9677\n",
            "Epoch 21/25\n",
            "20/20 [==============================] - 148s 7s/step - loss: 0.0750 - accuracy: 0.9768 - val_loss: 0.0508 - val_accuracy: 0.9758\n",
            "Epoch 22/25\n",
            "20/20 [==============================] - 148s 7s/step - loss: 0.1085 - accuracy: 0.9630 - val_loss: 0.0506 - val_accuracy: 0.9785\n",
            "Epoch 23/25\n",
            "20/20 [==============================] - 148s 7s/step - loss: 0.1039 - accuracy: 0.9692 - val_loss: 0.0626 - val_accuracy: 0.9731\n",
            "Epoch 24/25\n",
            "20/20 [==============================] - 147s 7s/step - loss: 0.1026 - accuracy: 0.9682 - val_loss: 0.0247 - val_accuracy: 0.9946\n",
            "Epoch 25/25\n",
            "20/20 [==============================] - 149s 7s/step - loss: 0.1027 - accuracy: 0.9617 - val_loss: 0.2781 - val_accuracy: 0.8790\n"
          ],
          "name": "stdout"
        }
      ]
    },
    {
      "cell_type": "code",
      "metadata": {
        "colab": {
          "base_uri": "https://localhost:8080/",
          "height": 298
        },
        "id": "e4IypTqEOrVR",
        "outputId": "378ff0d7-c562-47dd-d6bd-3991783968db"
      },
      "source": [
        "import matplotlib.pyplot as plt\r\n",
        "acc = history.history['accuracy']\r\n",
        "val_acc = history.history['val_accuracy']\r\n",
        "loss = history.history['loss']\r\n",
        "val_loss = history.history['val_loss']\r\n",
        "\r\n",
        "epochs = range(len(acc))\r\n",
        "\r\n",
        "plt.plot(epochs, acc, 'r', label='Training accuracy')\r\n",
        "plt.plot(epochs, val_acc, 'b', label='Validation accuracy')\r\n",
        "plt.title('Training and validation accuracy')\r\n",
        "plt.legend(loc=0)\r\n",
        "plt.figure()\r\n",
        "\r\n",
        "\r\n",
        "plt.show()"
      ],
      "execution_count": null,
      "outputs": [
        {
          "output_type": "display_data",
          "data": {
            "image/png": "[encoded data removed]",
            "text/plain": [
              "<Figure size 432x288 with 1 Axes>"
            ]
          },
          "metadata": {
            "tags": [],
            "needs_background": "light"
          }
        },
        {
          "output_type": "display_data",
          "data": {
            "text/plain": [
              "<Figure size 432x288 with 0 Axes>"
            ]
          },
          "metadata": {
            "tags": []
          }
        }
      ]
    },
    {
      "cell_type": "markdown",
      "metadata": {
        "id": "kGKyzYMMRo79"
      },
      "source": [
        "Data source: DeepLearning.AI TensorFlow Developer Professional Certificate Specialization on Coursera"
      ]
    }
  ]
}